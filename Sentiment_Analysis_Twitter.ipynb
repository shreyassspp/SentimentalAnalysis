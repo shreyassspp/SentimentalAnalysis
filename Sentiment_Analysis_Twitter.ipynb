{
  "nbformat": 4,
  "nbformat_minor": 0,
  "metadata": {
    "colab": {
      "name": "Sentiment Analysis Twitter.ipynb",
      "provenance": [],
      "collapsed_sections": []
    },
    "kernelspec": {
      "name": "python385jvsc74a57bd01baa965d5efe3ac65b79dfc60c0d706280b1da80fedb7760faf2759126c4f253",
      "display_name": "Python 3.8.5 64-bit"
    },
    "language_info": {
      "codemirror_mode": {
        "name": "ipython",
        "version": 3
      },
      "file_extension": ".py",
      "mimetype": "text/x-python",
      "name": "python",
      "nbconvert_exporter": "python",
      "pygments_lexer": "ipython3",
      "version": "3.8.5"
    },
    "metadata": {
      "interpreter": {
        "hash": "1baa965d5efe3ac65b79dfc60c0d706280b1da80fedb7760faf2759126c4f253"
      }
    }
  },
  "cells": [
    {
      "cell_type": "markdown",
      "metadata": {
        "id": "lE4AuGbRjce5"
      },
      "source": [
        "# **Import The Libraries and Packages**"
      ]
    },
    {
      "cell_type": "code",
      "metadata": {
        "id": "8OEQTX75jjyO",
        "scrolled": true
      },
      "source": [
        "import tweepy\n",
        "from textblob import TextBlob\n",
        "from wordcloud import WordCloud\n",
        "import pandas as pd\n",
        "import numpy as np\n",
        "import re\n",
        "import matplotlib.pyplot as plt\n",
        "plt.style.use('fivethirtyeight')"
      ],
      "execution_count": null,
      "outputs": []
    },
    {
      "cell_type": "code",
      "metadata": {
        "id": "NqiOMwSRyR6D",
        "colab": {
          "base_uri": "https://localhost:8080/"
        },
        "outputId": "8f70f038-24a0-4cde-fbff-92d767e1996d"
      },
      "source": [
        "!pip3 install snscrape\n",
        "!pip install guess-language\n",
        "!pip install guess_language-spirit"
      ],
      "execution_count": null,
      "outputs": [
        {
          "output_type": "stream",
          "text": [
            "Requirement already satisfied: snscrape in /usr/local/lib/python3.7/dist-packages (0.3.4)\n",
            "Requirement already satisfied: lxml in /usr/local/lib/python3.7/dist-packages (from snscrape) (4.2.6)\n",
            "Requirement already satisfied: requests[socks] in /usr/local/lib/python3.7/dist-packages (from snscrape) (2.23.0)\n",
            "Requirement already satisfied: beautifulsoup4 in /usr/local/lib/python3.7/dist-packages (from snscrape) (4.6.3)\n",
            "Requirement already satisfied: urllib3!=1.25.0,!=1.25.1,<1.26,>=1.21.1 in /usr/local/lib/python3.7/dist-packages (from requests[socks]->snscrape) (1.24.3)\n",
            "Requirement already satisfied: chardet<4,>=3.0.2 in /usr/local/lib/python3.7/dist-packages (from requests[socks]->snscrape) (3.0.4)\n",
            "Requirement already satisfied: idna<3,>=2.5 in /usr/local/lib/python3.7/dist-packages (from requests[socks]->snscrape) (2.10)\n",
            "Requirement already satisfied: certifi>=2017.4.17 in /usr/local/lib/python3.7/dist-packages (from requests[socks]->snscrape) (2020.12.5)\n",
            "Requirement already satisfied: PySocks!=1.5.7,>=1.5.6; extra == \"socks\" in /usr/local/lib/python3.7/dist-packages (from requests[socks]->snscrape) (1.7.1)\n",
            "Requirement already satisfied: guess-language in /usr/local/lib/python3.7/dist-packages (0.2)\n",
            "Requirement already satisfied: guess_language-spirit in /usr/local/lib/python3.7/dist-packages (0.5.3)\n"
          ],
          "name": "stdout"
        }
      ]
    },
    {
      "cell_type": "markdown",
      "metadata": {
        "id": "a7kW27tgm1Sp"
      },
      "source": [
        "# **Extract and Analyze the Data**"
      ]
    },
    {
      "cell_type": "code",
      "metadata": {
        "colab": {
          "base_uri": "https://localhost:8080/"
        },
        "id": "kT3r8Ar2uX7P",
        "outputId": "ce5d04be-317a-4b88-ce3f-39ba240ec1e3"
      },
      "source": [
        "querySearch = input(\"Enter the query: \")\n",
        "since = input(\"Enter the start date: \")\n",
        "until = input(\"Enter the end date: \")"
      ],
      "execution_count": null,
      "outputs": [
        {
          "output_type": "stream",
          "text": [
            "Enter the query: IPL\n",
            "Enter the start date: 2021-01-01\n",
            "Enter the end date: 2021-05-05\n"
          ],
          "name": "stdout"
        }
      ]
    },
    {
      "cell_type": "code",
      "metadata": {
        "id": "moruCyPnud6G"
      },
      "source": [
        "import snscrape.modules.twitter as sntwitter\n",
        "\n",
        "# Creating list to append tweet data to\n",
        "t_list = []\n",
        "\n",
        "# Using TwitterSearchScraper to scrape data and append tweets to list\n",
        "for i,tweet in enumerate(sntwitter.TwitterSearchScraper(f'{querySearch} since:{since} until:{until}').get_items()):\n",
        "    if i>500:\n",
        "        break\n",
        "    t_list.append([tweet.content])\n",
        "  \n",
        "text = t_list\n"
      ],
      "execution_count": null,
      "outputs": []
    },
    {
      "cell_type": "markdown",
      "metadata": {
        "id": "ub_L_tPFX5Ac"
      },
      "source": [
        "**Create a DataFrame with a column called Tweets that’ll contain the posts about a certain query, and then show the first five rows**"
      ]
    },
    {
      "cell_type": "code",
      "metadata": {
        "id": "L8py2gjzYA4v",
        "colab": {
          "base_uri": "https://localhost:8080/",
          "height": 202
        },
        "outputId": "0b6c02b0-b88b-46f3-b8a4-36991dcbfbcb"
      },
      "source": [
        "# Create a dataframe with a column called Tweets\n",
        "df = pd.DataFrame(t_list, columns=['Text'])\n",
        "# Show the first 5 rows of data\n",
        "df.head()"
      ],
      "execution_count": null,
      "outputs": [
        {
          "output_type": "execute_result",
          "data": {
            "text/html": [
              "<div>\n",
              "<style scoped>\n",
              "    .dataframe tbody tr th:only-of-type {\n",
              "        vertical-align: middle;\n",
              "    }\n",
              "\n",
              "    .dataframe tbody tr th {\n",
              "        vertical-align: top;\n",
              "    }\n",
              "\n",
              "    .dataframe thead th {\n",
              "        text-align: right;\n",
              "    }\n",
              "</style>\n",
              "<table border=\"1\" class=\"dataframe\">\n",
              "  <thead>\n",
              "    <tr style=\"text-align: right;\">\n",
              "      <th></th>\n",
              "      <th>Text</th>\n",
              "    </tr>\n",
              "  </thead>\n",
              "  <tbody>\n",
              "    <tr>\n",
              "      <th>0</th>\n",
              "      <td>IPL 2021: BCCI mull moving all remaining match...</td>\n",
              "    </tr>\n",
              "    <tr>\n",
              "      <th>1</th>\n",
              "      <td>@TheSouthMovies1 Bhai ab to mersal movie hindi...</td>\n",
              "    </tr>\n",
              "    <tr>\n",
              "      <th>2</th>\n",
              "      <td>With the IPL/India travel ban, the Australian ...</td>\n",
              "    </tr>\n",
              "    <tr>\n",
              "      <th>3</th>\n",
              "      <td>@zeshanalie @Irumf Tumhare ammi abu ka nahi ka...</td>\n",
              "    </tr>\n",
              "    <tr>\n",
              "      <th>4</th>\n",
              "      <td>@pranayvancha Thank you Pranaybaba.... IPL sus...</td>\n",
              "    </tr>\n",
              "  </tbody>\n",
              "</table>\n",
              "</div>"
            ],
            "text/plain": [
              "                                                Text\n",
              "0  IPL 2021: BCCI mull moving all remaining match...\n",
              "1  @TheSouthMovies1 Bhai ab to mersal movie hindi...\n",
              "2  With the IPL/India travel ban, the Australian ...\n",
              "3  @zeshanalie @Irumf Tumhare ammi abu ka nahi ka...\n",
              "4  @pranayvancha Thank you Pranaybaba.... IPL sus..."
            ]
          },
          "metadata": {
            "tags": []
          },
          "execution_count": 6
        }
      ]
    },
    {
      "cell_type": "markdown",
      "metadata": {
        "id": "jILSd2zQYMhS"
      },
      "source": [
        "**The data is a little dirty because it contains the @ symbol, hyperlinks, RTs, and may contain hash tags, so I’ll clean it up by creating a function to remove these symbols from the tweets. Then, apply that function to the tweets and show the results**"
      ]
    },
    {
      "cell_type": "code",
      "metadata": {
        "id": "WJWrhv2DYUZy",
        "colab": {
          "base_uri": "https://localhost:8080/",
          "height": 415
        },
        "outputId": "30f16512-c28f-4a36-b92e-760d90d10f9b"
      },
      "source": [
        "# Create a function to clean the tweets\n",
        "def cleanTxt(text):\n",
        " text = re.sub('@[A-Za-z0–9]+', '', text) #Removing @mentions\n",
        " text = re.sub('#', '', text) # Removing '#' hash tag\n",
        " text = re.sub('RT[\\s]+', '', text) # Removing RT\n",
        " text = re.sub('https?:\\/\\/\\S+', '', text) # Removing hyperlink\n",
        " regrex_pattern = re.compile(pattern = \"[\"\n",
        "        u\"\\U0001F600-\\U0001F64F\"  # emoticons\n",
        "        u\"\\U0001F300-\\U0001F5FF\"  # symbols & pictographs\n",
        "        u\"\\U0001F680-\\U0001F6FF\"  # transport & map symbols\n",
        "        u\"\\U0001F1E0-\\U0001F1FF\"  # flags (iOS)\n",
        "                           \"]+\", flags = re.UNICODE)\n",
        " text = regrex_pattern.sub(r'',text)\n",
        " \n",
        " return text\n",
        "\n",
        "# Clean the tweets\n",
        "df['Text'] = df['Text'].apply(cleanTxt)\n",
        "\n",
        "# Show the cleaned tweets\n",
        "df"
      ],
      "execution_count": null,
      "outputs": [
        {
          "output_type": "execute_result",
          "data": {
            "text/html": [
              "<div>\n",
              "<style scoped>\n",
              "    .dataframe tbody tr th:only-of-type {\n",
              "        vertical-align: middle;\n",
              "    }\n",
              "\n",
              "    .dataframe tbody tr th {\n",
              "        vertical-align: top;\n",
              "    }\n",
              "\n",
              "    .dataframe thead th {\n",
              "        text-align: right;\n",
              "    }\n",
              "</style>\n",
              "<table border=\"1\" class=\"dataframe\">\n",
              "  <thead>\n",
              "    <tr style=\"text-align: right;\">\n",
              "      <th></th>\n",
              "      <th>Text</th>\n",
              "    </tr>\n",
              "  </thead>\n",
              "  <tbody>\n",
              "    <tr>\n",
              "      <th>0</th>\n",
              "      <td>IPL 2021: BCCI mull moving all remaining match...</td>\n",
              "    </tr>\n",
              "    <tr>\n",
              "      <th>1</th>\n",
              "      <td>1 Bhai ab to mersal movie hindi me aayegi qnki...</td>\n",
              "    </tr>\n",
              "    <tr>\n",
              "      <th>2</th>\n",
              "      <td>With the IPL/India travel ban, the Australian ...</td>\n",
              "    </tr>\n",
              "    <tr>\n",
              "      <th>3</th>\n",
              "      <td>Tumhare ammi abu ka nahi kah sakta par mere ...</td>\n",
              "    </tr>\n",
              "    <tr>\n",
              "      <th>4</th>\n",
              "      <td>Thank you Pranaybaba.... IPL suspended after ...</td>\n",
              "    </tr>\n",
              "    <tr>\n",
              "      <th>...</th>\n",
              "      <td>...</td>\n",
              "    </tr>\n",
              "    <tr>\n",
              "      <th>496</th>\n",
              "      <td>IPL Fantasy 2021: Best Fantasy XI for Match 31...</td>\n",
              "    </tr>\n",
              "    <tr>\n",
              "      <th>497</th>\n",
              "      <td>IPL suspension nuomi  no point in life anymore 🥲</td>\n",
              "    </tr>\n",
              "    <tr>\n",
              "      <th>498</th>\n",
              "      <td>Around the day the IPL started India’s Covid ...</td>\n",
              "    </tr>\n",
              "    <tr>\n",
              "      <th>499</th>\n",
              "      <td>Prediction IPL Ipl2021 COVIDEmergencyIndia COV...</td>\n",
              "    </tr>\n",
              "    <tr>\n",
              "      <th>500</th>\n",
              "      <td>Bhai 3:20 konsa ipl hota hai</td>\n",
              "    </tr>\n",
              "  </tbody>\n",
              "</table>\n",
              "<p>501 rows × 1 columns</p>\n",
              "</div>"
            ],
            "text/plain": [
              "                                                  Text\n",
              "0    IPL 2021: BCCI mull moving all remaining match...\n",
              "1    1 Bhai ab to mersal movie hindi me aayegi qnki...\n",
              "2    With the IPL/India travel ban, the Australian ...\n",
              "3      Tumhare ammi abu ka nahi kah sakta par mere ...\n",
              "4     Thank you Pranaybaba.... IPL suspended after ...\n",
              "..                                                 ...\n",
              "496  IPL Fantasy 2021: Best Fantasy XI for Match 31...\n",
              "497   IPL suspension nuomi  no point in life anymore 🥲\n",
              "498   Around the day the IPL started India’s Covid ...\n",
              "499  Prediction IPL Ipl2021 COVIDEmergencyIndia COV...\n",
              "500                       Bhai 3:20 konsa ipl hota hai\n",
              "\n",
              "[501 rows x 1 columns]"
            ]
          },
          "metadata": {
            "tags": []
          },
          "execution_count": 7
        }
      ]
    },
    {
      "cell_type": "markdown",
      "metadata": {
        "id": "9r2nl2SKYppK"
      },
      "source": [
        "**We need to add the tweets’ subjectivity and polarity to the DataFrame. In order to do this, We have to create two functions: one to get the tweets called Subjectivity (how subjective or opinionated the text is — a score of 0 is fact, and a score of +1 is very much an opinion) and the other to get the tweets called Polarity (how positive or negative the text is, — score of -1 is the highest negative score, and a score of +1 is the highest positive score).\n",
        "Next, store the results into two columns — one called Subjectivity and the other called Polarity — and show the results.**"
      ]
    },
    {
      "cell_type": "code",
      "metadata": {
        "id": "YqVw3RV1ZMB0",
        "colab": {
          "base_uri": "https://localhost:8080/",
          "height": 415
        },
        "outputId": "65431d31-4bae-4d57-ebbb-efb2261ce5aa"
      },
      "source": [
        "# Create a function to get the subjectivity\n",
        "def getSubjectivity(text):\n",
        "   return TextBlob(text).sentiment.subjectivity\n",
        "\n",
        "# Create a function to get the polarity\n",
        "def getPolarity(text):\n",
        "   return  TextBlob(text).sentiment.polarity\n",
        "\n",
        "\n",
        "# Create two new columns 'Subjectivity' & 'Polarity'\n",
        "df['Subjectivity'] = df['Text'].apply(getSubjectivity)\n",
        "df['Polarity'] = df['Text'].apply(getPolarity)\n",
        "\n",
        "# Show the new dataframe with columns 'Subjectivity' & 'Polarity'\n",
        "df"
      ],
      "execution_count": null,
      "outputs": [
        {
          "output_type": "execute_result",
          "data": {
            "text/html": [
              "<div>\n",
              "<style scoped>\n",
              "    .dataframe tbody tr th:only-of-type {\n",
              "        vertical-align: middle;\n",
              "    }\n",
              "\n",
              "    .dataframe tbody tr th {\n",
              "        vertical-align: top;\n",
              "    }\n",
              "\n",
              "    .dataframe thead th {\n",
              "        text-align: right;\n",
              "    }\n",
              "</style>\n",
              "<table border=\"1\" class=\"dataframe\">\n",
              "  <thead>\n",
              "    <tr style=\"text-align: right;\">\n",
              "      <th></th>\n",
              "      <th>Text</th>\n",
              "      <th>Subjectivity</th>\n",
              "      <th>Polarity</th>\n",
              "    </tr>\n",
              "  </thead>\n",
              "  <tbody>\n",
              "    <tr>\n",
              "      <th>0</th>\n",
              "      <td>IPL 2021: BCCI mull moving all remaining match...</td>\n",
              "      <td>0.000000</td>\n",
              "      <td>0.000000</td>\n",
              "    </tr>\n",
              "    <tr>\n",
              "      <th>1</th>\n",
              "      <td>1 Bhai ab to mersal movie hindi me aayegi qnki...</td>\n",
              "      <td>0.000000</td>\n",
              "      <td>0.000000</td>\n",
              "    </tr>\n",
              "    <tr>\n",
              "      <th>2</th>\n",
              "      <td>With the IPL/India travel ban, the Australian ...</td>\n",
              "      <td>0.188889</td>\n",
              "      <td>-0.055556</td>\n",
              "    </tr>\n",
              "    <tr>\n",
              "      <th>3</th>\n",
              "      <td>Tumhare ammi abu ka nahi kah sakta par mere ...</td>\n",
              "      <td>0.500000</td>\n",
              "      <td>-0.500000</td>\n",
              "    </tr>\n",
              "    <tr>\n",
              "      <th>4</th>\n",
              "      <td>Thank you Pranaybaba.... IPL suspended after ...</td>\n",
              "      <td>0.000000</td>\n",
              "      <td>0.000000</td>\n",
              "    </tr>\n",
              "    <tr>\n",
              "      <th>...</th>\n",
              "      <td>...</td>\n",
              "      <td>...</td>\n",
              "      <td>...</td>\n",
              "    </tr>\n",
              "    <tr>\n",
              "      <th>496</th>\n",
              "      <td>IPL Fantasy 2021: Best Fantasy XI for Match 31...</td>\n",
              "      <td>0.300000</td>\n",
              "      <td>1.000000</td>\n",
              "    </tr>\n",
              "    <tr>\n",
              "      <th>497</th>\n",
              "      <td>IPL suspension nuomi  no point in life anymore 🥲</td>\n",
              "      <td>0.000000</td>\n",
              "      <td>0.000000</td>\n",
              "    </tr>\n",
              "    <tr>\n",
              "      <th>498</th>\n",
              "      <td>Around the day the IPL started India’s Covid ...</td>\n",
              "      <td>1.000000</td>\n",
              "      <td>0.000000</td>\n",
              "    </tr>\n",
              "    <tr>\n",
              "      <th>499</th>\n",
              "      <td>Prediction IPL Ipl2021 COVIDEmergencyIndia COV...</td>\n",
              "      <td>0.000000</td>\n",
              "      <td>0.000000</td>\n",
              "    </tr>\n",
              "    <tr>\n",
              "      <th>500</th>\n",
              "      <td>Bhai 3:20 konsa ipl hota hai</td>\n",
              "      <td>0.000000</td>\n",
              "      <td>0.000000</td>\n",
              "    </tr>\n",
              "  </tbody>\n",
              "</table>\n",
              "<p>501 rows × 3 columns</p>\n",
              "</div>"
            ],
            "text/plain": [
              "                                                  Text  Subjectivity  Polarity\n",
              "0    IPL 2021: BCCI mull moving all remaining match...      0.000000  0.000000\n",
              "1    1 Bhai ab to mersal movie hindi me aayegi qnki...      0.000000  0.000000\n",
              "2    With the IPL/India travel ban, the Australian ...      0.188889 -0.055556\n",
              "3      Tumhare ammi abu ka nahi kah sakta par mere ...      0.500000 -0.500000\n",
              "4     Thank you Pranaybaba.... IPL suspended after ...      0.000000  0.000000\n",
              "..                                                 ...           ...       ...\n",
              "496  IPL Fantasy 2021: Best Fantasy XI for Match 31...      0.300000  1.000000\n",
              "497   IPL suspension nuomi  no point in life anymore 🥲      0.000000  0.000000\n",
              "498   Around the day the IPL started India’s Covid ...      1.000000  0.000000\n",
              "499  Prediction IPL Ipl2021 COVIDEmergencyIndia COV...      0.000000  0.000000\n",
              "500                       Bhai 3:20 konsa ipl hota hai      0.000000  0.000000\n",
              "\n",
              "[501 rows x 3 columns]"
            ]
          },
          "metadata": {
            "tags": []
          },
          "execution_count": 8
        }
      ]
    },
    {
      "cell_type": "markdown",
      "metadata": {
        "id": "VkjtmpFMZRLC"
      },
      "source": [
        "**Visualizing all the words in the data using the word-cloud plot to see how well the sentiments are distributed**"
      ]
    },
    {
      "cell_type": "code",
      "metadata": {
        "id": "7B-QRRoEZx7x",
        "colab": {
          "base_uri": "https://localhost:8080/",
          "height": 248
        },
        "outputId": "b25da492-4bde-4955-cc77-50f6e399c38a"
      },
      "source": [
        "# word cloud visualization\n",
        "allWords = ' '.join([twts for twts in df['Text']])\n",
        "wordCloud = WordCloud(width=500, height=300, random_state=21, max_font_size=110).generate(allWords)\n",
        " \n",
        " \n",
        "plt.imshow(wordCloud, interpolation=\"bilinear\")\n",
        "plt.axis('off')\n",
        "plt.show()"
      ],
      "execution_count": null,
      "outputs": [
        {
          "output_type": "display_data",
          "data": {
            "image/png": "[encoded data removed]",
            "text/plain": [
              "<Figure size 432x288 with 1 Axes>"
            ]
          },
          "metadata": {
            "tags": [],
            "needs_background": "light"
          }
        }
      ]
    },
    {
      "cell_type": "markdown",
      "metadata": {
        "id": "yAv9LtXCZ1A5"
      },
      "source": [
        "**Create a function to compute the negative (-1), neutral (0), and positive (+1) analysis, and add the information to a new column called Analysis. Then, show the results.**"
      ]
    },
    {
      "cell_type": "code",
      "metadata": {
        "id": "Fjhe6EKnZ9fQ",
        "colab": {
          "base_uri": "https://localhost:8080/",
          "height": 415
        },
        "outputId": "8f5497da-72e9-482a-d0fe-e69a12154454"
      },
      "source": [
        "# Create a function to compute negative (-1), neutral (0) and positive (+1) analysis\n",
        "def getAnalysis(score):\n",
        "    if score < 0:\n",
        "      return 'Negative'\n",
        "    elif score == 0:\n",
        "      return 'Neutral'\n",
        "    else:\n",
        "      return 'Positive'\n",
        "df['Analysis'] = df['Polarity'].apply(getAnalysis)\n",
        "# Show the dataframe\n",
        "df"
      ],
      "execution_count": null,
      "outputs": [
        {
          "output_type": "execute_result",
          "data": {
            "text/html": [
              "<div>\n",
              "<style scoped>\n",
              "    .dataframe tbody tr th:only-of-type {\n",
              "        vertical-align: middle;\n",
              "    }\n",
              "\n",
              "    .dataframe tbody tr th {\n",
              "        vertical-align: top;\n",
              "    }\n",
              "\n",
              "    .dataframe thead th {\n",
              "        text-align: right;\n",
              "    }\n",
              "</style>\n",
              "<table border=\"1\" class=\"dataframe\">\n",
              "  <thead>\n",
              "    <tr style=\"text-align: right;\">\n",
              "      <th></th>\n",
              "      <th>Text</th>\n",
              "      <th>Subjectivity</th>\n",
              "      <th>Polarity</th>\n",
              "      <th>Analysis</th>\n",
              "    </tr>\n",
              "  </thead>\n",
              "  <tbody>\n",
              "    <tr>\n",
              "      <th>0</th>\n",
              "      <td>IPL 2021: BCCI mull moving all remaining match...</td>\n",
              "      <td>0.000000</td>\n",
              "      <td>0.000000</td>\n",
              "      <td>Neutral</td>\n",
              "    </tr>\n",
              "    <tr>\n",
              "      <th>1</th>\n",
              "      <td>1 Bhai ab to mersal movie hindi me aayegi qnki...</td>\n",
              "      <td>0.000000</td>\n",
              "      <td>0.000000</td>\n",
              "      <td>Neutral</td>\n",
              "    </tr>\n",
              "    <tr>\n",
              "      <th>2</th>\n",
              "      <td>With the IPL/India travel ban, the Australian ...</td>\n",
              "      <td>0.188889</td>\n",
              "      <td>-0.055556</td>\n",
              "      <td>Negative</td>\n",
              "    </tr>\n",
              "    <tr>\n",
              "      <th>3</th>\n",
              "      <td>Tumhare ammi abu ka nahi kah sakta par mere ...</td>\n",
              "      <td>0.500000</td>\n",
              "      <td>-0.500000</td>\n",
              "      <td>Negative</td>\n",
              "    </tr>\n",
              "    <tr>\n",
              "      <th>4</th>\n",
              "      <td>Thank you Pranaybaba.... IPL suspended after ...</td>\n",
              "      <td>0.000000</td>\n",
              "      <td>0.000000</td>\n",
              "      <td>Neutral</td>\n",
              "    </tr>\n",
              "    <tr>\n",
              "      <th>...</th>\n",
              "      <td>...</td>\n",
              "      <td>...</td>\n",
              "      <td>...</td>\n",
              "      <td>...</td>\n",
              "    </tr>\n",
              "    <tr>\n",
              "      <th>496</th>\n",
              "      <td>IPL Fantasy 2021: Best Fantasy XI for Match 31...</td>\n",
              "      <td>0.300000</td>\n",
              "      <td>1.000000</td>\n",
              "      <td>Positive</td>\n",
              "    </tr>\n",
              "    <tr>\n",
              "      <th>497</th>\n",
              "      <td>IPL suspension nuomi  no point in life anymore 🥲</td>\n",
              "      <td>0.000000</td>\n",
              "      <td>0.000000</td>\n",
              "      <td>Neutral</td>\n",
              "    </tr>\n",
              "    <tr>\n",
              "      <th>498</th>\n",
              "      <td>Around the day the IPL started India’s Covid ...</td>\n",
              "      <td>1.000000</td>\n",
              "      <td>0.000000</td>\n",
              "      <td>Neutral</td>\n",
              "    </tr>\n",
              "    <tr>\n",
              "      <th>499</th>\n",
              "      <td>Prediction IPL Ipl2021 COVIDEmergencyIndia COV...</td>\n",
              "      <td>0.000000</td>\n",
              "      <td>0.000000</td>\n",
              "      <td>Neutral</td>\n",
              "    </tr>\n",
              "    <tr>\n",
              "      <th>500</th>\n",
              "      <td>Bhai 3:20 konsa ipl hota hai</td>\n",
              "      <td>0.000000</td>\n",
              "      <td>0.000000</td>\n",
              "      <td>Neutral</td>\n",
              "    </tr>\n",
              "  </tbody>\n",
              "</table>\n",
              "<p>501 rows × 4 columns</p>\n",
              "</div>"
            ],
            "text/plain": [
              "                                                  Text  ...  Analysis\n",
              "0    IPL 2021: BCCI mull moving all remaining match...  ...   Neutral\n",
              "1    1 Bhai ab to mersal movie hindi me aayegi qnki...  ...   Neutral\n",
              "2    With the IPL/India travel ban, the Australian ...  ...  Negative\n",
              "3      Tumhare ammi abu ka nahi kah sakta par mere ...  ...  Negative\n",
              "4     Thank you Pranaybaba.... IPL suspended after ...  ...   Neutral\n",
              "..                                                 ...  ...       ...\n",
              "496  IPL Fantasy 2021: Best Fantasy XI for Match 31...  ...  Positive\n",
              "497   IPL suspension nuomi  no point in life anymore 🥲  ...   Neutral\n",
              "498   Around the day the IPL started India’s Covid ...  ...   Neutral\n",
              "499  Prediction IPL Ipl2021 COVIDEmergencyIndia COV...  ...   Neutral\n",
              "500                       Bhai 3:20 konsa ipl hota hai  ...   Neutral\n",
              "\n",
              "[501 rows x 4 columns]"
            ]
          },
          "metadata": {
            "tags": []
          },
          "execution_count": 10
        }
      ]
    },
    {
      "cell_type": "markdown",
      "metadata": {
        "id": "pqE_THWIaCbR"
      },
      "source": [
        "**Print the positive tweets in ascending order. The most positive tweet is the #1 tweet**"
      ]
    },
    {
      "cell_type": "code",
      "metadata": {
        "id": "uwQ9R8yOaORx",
        "colab": {
          "base_uri": "https://localhost:8080/"
        },
        "outputId": "ebed76b4-999c-4deb-99bc-0be4ab373cc5"
      },
      "source": [
        "# Printing positive tweets \n",
        "print('Printing positive tweets:\\n')\n",
        "j=1\n",
        "sortedDF = df.sort_values(by=['Polarity']) #Sort the tweets\n",
        "for i in range(0, sortedDF.shape[0] ):\n",
        "  if( sortedDF['Analysis'][i] == 'Positive'):\n",
        "    print(str(j) + ') '+ sortedDF['Text'][i])\n",
        "    print()\n",
        "    j= j+1"
      ],
      "execution_count": null,
      "outputs": [
        {
          "output_type": "stream",
          "text": [
            "Printing positive tweets:\n",
            "\n",
            "1)  I did it when the Epilady first came out, and YEOUCH!!! That said, after only a few uses, there were spots on the shins that were never more than sparse hair after and I have a modern one that is initially noticeable, but between it and IPL, some progress.\n",
            "\n",
            "2) New post (England players begin to head home after IPL suspended) published on  - \n",
            "\n",
            "3) Australian Legend Michael Hussey tested \n",
            "positive in India during IPL 2021 :\n",
            "\n",
            "If anything happens to him , who will be\n",
            "responsible?\n",
            "\n",
            "~Indian Government ?\n",
            "~BCCI ?\n",
            "~He Himself ?\n",
            "~Cricket Australia ?\n",
            "\n",
            "Anyways get well soon legend ❤️ \n",
            "\n",
            "4) Bio Secure Bubble in PSL &amp; IPL \n",
            "PSL2021 IPL2021 BCCI PCB cricket \n",
            "\n",
            "5)  Was it ever meant to be a joke? No, not now, never before. I was in favour of IPL without stadium audience because it brings happiness and cheer to us indians which we really need nowdays. But the security bubble failed, so IPL must be stopped.\n",
            "\n",
            "6) 100mph IPL Cancelled. Alhamdulillah it's good news. Hope now The Government of India give better concentration of human crisis.\n",
            "\n",
            "7) .7 on the implications for the World Cup: \"It puts even more doubt over it... just talk to the players. \n",
            "\n",
            "\"Would you want to put yourself back in that situation? And remember it won't be the IPL, with incredibly rich franchises taking care of you.\"\n",
            "\n",
            "8)  Internation players are greedy they preferred money over health they didn't raise concerns over Covindia corona variant and to postpone IPL.\n",
            "So Australia took wise decision.\n",
            "\n",
            "9) IPL 2021: Michael Hussey tests positive, samples being redone | Cricket News – Times of India \n",
            "\n",
            "10) More than the ipl I am thinking about all the cred ads that were planned \n",
            "\n",
            "iplcancel CredAd OrangeArmy\n",
            "\n",
            "11) Political interference dictates Ahmedabad as the Venue without a Franchise,   Bow down to please  Hyderabad and Mohali was the Natural choices, But pleasing powerful,  Should have shown the spine but he too Tow the line,   \n",
            "\n",
            "12) Indian Premier League suspended after multiple players test positive for COVID-19 IPL2021 IPLCancel IPLPostponed IPLCancelled Cricket IPL India \n",
            "\n",
            "13)   Well considering the below - \n",
            "\n",
            "- BCCI gets the window in Sep\n",
            "- Top Intl players agree to participate and to quarantine as part of the process (even though there will be Ashes in 3m’s time) \n",
            "- conduct the remaining IPL in UAE\n",
            "\n",
            "What’s the issue ?\n",
            "\n",
            "14) IPL 2021 new champion CORONA 2.0\n",
            "EeSalaCupNamde\n",
            "\n",
            "15) As advised by Great Visionary, Dr. 39 jee ..\n",
            "     \n",
            "BCCI suspends IPL 2021 Indefinitely amid Covid cases surge \n",
            "\n",
            "\n",
            "\n",
            "16) Good news for East Delhi... IPL being suspended hoping  to shift to his primary job.\n",
            "\n",
            "17) IPL suspended after more players test Covid positive  \n",
            "\n",
            "18)  Oh really. All of sudden IPL CANCEL AND DESH BHAKTI jaag Gayi.\n",
            "\n",
            "19) IPL 2021 SUSPECTED FOR INDEFINITE PERIODS AFTER DOZENS OF PLAYERS COVID TEST POSITIVE. \n",
            "\n",
            "20) 31 31 Matter of money 🤑\n",
            "Who would prefer health or life over huge amounts of dollars. \n",
            "IPL has ruined the game and characters aswell.\n",
            "\n",
            "21) Since now IPL has been postponed,may be now the big names of Indian cricket will come ahead and provide their full support to the people of India.Or may be they still waiting for a green signal from high command? Same goes for the Bollywood celebs.\n",
            "Modi must be having their nudes\n",
            "\n",
            "22) In 2021 IPL\n",
            "\n",
            "Most runs in each Over\n",
            "\n",
            "1 - Prithvi (52)\n",
            "2 - Prithvi (59)\n",
            "3 - Bairstow (42)\n",
            "4 - Bairstow, Faf (42)\n",
            "5 - Buttler (44)\n",
            "6 - Gayle (33)\n",
            "7 - Gayle (27)\n",
            "8 - Maxwell (40)\n",
            "9 - Moeen (30)\n",
            "10 - Dhawan (27)\n",
            "\n",
            "(1/2)\n",
            "\n",
            "23) Celebrate MothersDay and customerappreciationmonth with our May specials! To learn more, call 281-665-4444 or visit  \n",
            "botox ipl resurfx photofacial laserskinresurfacing heliocare heliocareultra skinceuticals houston texas houstondermatologist \n",
            "\n",
            "24) 7 31  Good for you, you wanted the big $$ and were prepared to take the risk. Tough it out...\n",
            "\n",
            "25) Hosting IPL-14 in India the right call, says Ness Wadia \n",
            "\n",
            "26) This situation is suddenly becoming a real problem requiring a real solution. \n",
            "\n",
            "Auspol ScottyTheRacist CovidIndia COVID19 IPL Cricket \n",
            "\n",
            "27) It seems that the majority of the IPL have called me over the past few days with genuine concern over a car accident I never had and the flagrant use of my National Insurance number to commandeer weapons from Russia. Commerce appears to be very much alive and buoyant in India!🤪\n",
            "\n",
            "28)  It honestly made no sense that billions were being spent to host a tournament while there were so many people dying in your country...\n",
            "\n",
            "29) Hosting IPL-14 in India the right call, says Ness Wadia \n",
            "\n",
            "30) टी20 लीग स्थगित लेकिन खतरा बरकरार, सीएसके के बल्लेबाजी कोच पॉजिटिव/IPL 2021 Chennai super kings corona cases Michael hussy tests positive \n",
            "\n",
            "31)   \n",
            " \n",
            "\n",
            "Nice project\n",
            "\n",
            " _Sawant \n",
            "\n",
            "32) With several members among IPL franchises testing positive, the Board had no option but to postpone the tournament.\n",
            "\n",
            "\n",
            "\n",
            "33) _ipl おはよう\n",
            "\n",
            "Have a nice day \n",
            "Please take care of yourself \n",
            "\n",
            "34) On the bright side, he could have got permission to go and commentate in the IPL only to be stranded there by his own Government with covid going wild and hospitals overwhelmed.\n",
            "\n",
            "auspol \n",
            "\n",
            "35) England players begin to head home after IPL suspended - \n",
            "\n",
            "England’s Jos Buttler was due to fly home from India on Tuesday\n",
            "England players began flying home on Tuesday after the Indian Premier League (IPL) was suspended following an increase in... \n",
            "\n",
            "36)  Khatam bye bye tata good bye 🤣 Ipl2021\n",
            "\n",
            "37) So this was not a joke any more so it was a joke for you before till ipl is played... PPL are suffering from past many days.. \n",
            "\n",
            "38)   Casual attitude of bcci and franchise has led to this debacle. They should have taken covid seriously in the beginning and scheduled all games at two grounds to have full proof bio bubble . Why can’t they learn from England who hosted so many internationals without any breaches\n",
            "\n",
            "39)    \n",
            "\n",
            "Nice project\n",
            "\n",
            " 1 \n",
            "\n",
            "40)    Yarr Ab maja ny Aayega IPL k bina My Favourite team Mi Or Rohit sharma is Bar Form me they Or Mi ki Hat-trick ny huyi    Thnx For best Memoris \n",
            "\n",
            "41) 42976181  How can u say that? What in that tweet shows the celebration? Stop being narrow minded if someone is pointing out right thing that ipl had to do!\n",
            "\n",
            "42) Hosting IPL 14 in India was the right call, situation deteriorated quickly: Ness Wadia | Cricket News – Times of India \n",
            "\n",
            "43) 42976181 24  Hey sanjana, just wanted to know how is Indian Postponed league going? Aren't you going to make fun now baby? Why so chup?\n",
            "\n",
            "Awwwwwww. Come on you were saying postponed something? Did IPL got postponed?🤣🤣🤣🤣\n",
            "\n",
            "44) Mike Hussey has tested positive at the IPL\n",
            "\n",
            "45) AskSportsTak Hopefully our neighbors (ex-cricketers) criticizing IPL is because they care for us not because they are happy that IPL finally got canceled. What do you think 73 Paaji,  Bhaiya, and 1601 Bhaiya?\n",
            "\n",
            "46)  In that case , MI lost first match intentionally against RCB . Kyuki first match harne par hi MI IPL jeet jaati hai . That was also a strategic loss in my book ✍️✍️.    \n",
            "\n",
            "47) Yaari   _dimri _  Hopefully our neighbours (ex-cricketers) criticising IPL is because they care for us not because they are happy that IPL finally got cancelled. What do you think pals?\n",
            "\n",
            "48) Lo G kar lo baat. Bakht Free hogaye IPL se . \n",
            "\n",
            "49) BCCI should now consider a foreign venue to Host the remaining IPL plus should give away the hosting rights of this year's T20 World Cup to a safer place.\n",
            "Answer is New Zealand with no cases at all right now..\n",
            "\n",
            "50) Hosting IPL 14 in India was the right call, situation deteriorated quickly: Ness Wadia | Cricket News – Times of India \n",
            "\n",
            "51) Is it just a coincidence SloMoTheGreatAnnouncer has backed away from no-one returning from India once they realised the IPL was suspended. With that action, white Australians working in IPL would need to come home just like those Dutton phantom South African Farmers auspol\n",
            "\n",
            "52) Former Australian cricketer and IPL batting coach Michael Hussey has tested positive to COVID-19, according to Indian media.\n",
            "\n",
            "CovidIndia\n",
            "\n",
            "53) I saw  more during WestBengalElections than managing the Pandemic as HomeMinister he should have reigned in the last century itself. May be his focus is on BCCI and how to get the money ball called  going again. I wonder if Citizens matter \n",
            "\n",
            "54)  So bio secure bubble was compromised multiple times for sure! But yet ipl wasn't suspended till a lot of positive cases. Obviously $ is more important to india than people's lives. IPL India COVID19India COVID19 Covid_19 \n",
            "\n",
            "55)   Even the Indian elite is dying with a excess to excellent health care and they are young, hope Hussey get better. This virus is deadly to anyone from 9 year old to 100 year old. Let’s not judge them by playing IPL.\n",
            "\n",
            "56)  Seriously...\n",
            "Money comes first, proven by IPL. Outbreak began long ago but after many players got infected and refused to play, IPL management had nothing left except suspension of the tournament.\n",
            "\n",
            "57)  I have a home IPL thing... I can't say I've seen any real result. Even after weeks. I do like it to dry out my skin when I get breakouts though. Seems to help for that 🤷‍♀️\n",
            "\n",
            "58) RCB ki khismat may IPL ki trophy nahi likhi gayi hai ........  @ Karimnagar smart city updates \n",
            "\n",
            "59)  I know but watching the same news the whole day is very disturbing and also have to stay home all the time and IPL was the only thing which was helping alot of people to stay mentally calm &amp; happy.\n",
            "\n",
            "60) While the millions of people who made it successful suffered, IPL remained detached from the ground reality \n",
            "\n",
            "61) Daddy, come home straight away: David Warner shares message from daughters after IPL 2021 suspension \n",
            "\n",
            "62) Australian players stuck in India for IPL are made \"Dhobi Ke Kuttay\" by their own government.\n",
            "IPL suspension\n",
            "\n",
            "63) 99% kumbh devotees, many IPL Players tested covid positive. Govt allowed them to spread the virus. But many Tablighi Jamat members still await trial for no fault of theirs. Waah Modi Ji Waah!\n",
            "\n",
            "64) David Warner has shared a hand-drawn picture from his young daughter asking him to “come home straight away” as he remains stranded along with other Australians in India for the IPL. \n",
            "\n",
            "65)   Great news for international crkt, now biletral series would take place which is good for game,,,\n",
            "\n",
            "66) 73  Bhai 100mph  ko dekho.. \n",
            "Kya gyaan chod raha h humko bol raha h Pakistan better than india \n",
            "\n",
            "67) _vohra Other than hardcore fans general fans will forget the points table itself by then. Srh fans wont even have interest in it. Isnt it better for sponsors and for all the hardwork needed to organize Ipl to start fresh Ipl with full hype early next year. That's what will happen.\n",
            "\n",
            "68) When RCB was going great and ipl got suspended \n",
            "\n",
            "69) IPL 2021: Jos Buttler’s special gift for opening partner Yashasvi Jaiswal  \n",
            "\n",
            "70) _ Now what we should think of IPL?\n",
            "India Positive League,\n",
            "Infected Premier League,\n",
            "Installment Premier League.\n",
            "\n",
            "71) IPL 2021: Jos Buttler’s special gift for opening partner Yashasvi Jaiswal \n",
            "\n",
            "72) IPL during 2010-2015 was better because of topps cricket attack cards.\n",
            "\n",
            "73) MAJOR BREAKING NEWS out of the IPL.\n",
            "\n",
            "Coming up at 6:55am on @6PRbreakfast with _Parker\n",
            "\n",
            "74) _philp  LOL. So it's the governments fault for them going?IPL should never have happened and its not the governments problem that it did. Why do we have no Covid and the rest of the world does? Thankfully the loud minority like yourself do not represent the views of the majority.\n",
            "\n",
            "75) 31 The picture showed Warner alongside wife Candice and his three daughters - Ivy, Indy and Isla - with one simple message for her father. \n",
            "\n",
            "\"Please Daddy come home straight away. We miss you a lot and love you,\" she wrote.  IPL India COVID19\n",
            "\n",
            "76) Australian IPL players and support staff might fly off to Maldives in bid to get home \n",
            "\n",
            "77) 99% kumbh devotees, many IPL Players tested covid positive. Govt allowed them to spread the virus. But many Tablighi Jamat members still await trial for no fault of theirs. Waah Modi Ji Waaah!\n",
            "\n",
            "78) Why is there a public outcry for Australian cricketers playing in the IPL not being able to return home? They chased the money and knew the risks of going... deal with it. I'm sure the millions of dollars they earned over there can keep them warm at night COVID19Aus\n",
            "\n",
            "79) ipl-2021 Stephen Fleming said that chennai super kings Made Some Changes Around Attitude \n",
            "\n",
            "80) 27907791 88991635  He is being sarcastic \n",
            "PSL is a joke. Only IPL rejects play there\n",
            "\n",
            "81) Want to make it clear that IPL 2021 has been postponed and not cancelled: BCCI vice-president Rajeev Shukla \n",
            "\n",
            "82) IPL has been suspended ,\n",
            "\n",
            "Hope now Gautam Gambhir can make himself available to the citizens of East Delhi !!!!! !!!!!\n",
            "\n",
            "83)   31 The cricketers can afford to charter a plane they are on huge $ in the IPL and could bring a few more home with them!\n",
            "\n",
            "84) IPL 2021: Chennai Super Kings fast bowler Behrendorf donated to tackle Corona crisis in India \n",
            "\n",
            "85) Australian IPL players and support staff might fly off to Maldives in bid to get home \n",
            "\n",
            "86) MI’s Low Score Defense To CSK’s 200 : Top Moments Of  2021 So Far Follow Us on \n",
            " 45\n",
            "\n",
            " ChennaiSuperKings IPL2021 MSDhoni MumbaiIndians RohitSharma\n",
            "\n",
            "\n",
            "\n",
            "87)  Quick, someone blame Scomo! Damn him for forcing our cricketers to chase big coin in the IPL in the middle of a pandemic.\n",
            "\n",
            "88) ICYMI: _cmail from _sport joined us with all the latest news following indefinite suspension of IPL\n",
            "\n",
            " \n",
            "\n",
            "89)  I hope they have learnt something out of this. The BCCI always insists on the full term of IPL. Their safest bet, even money wise, would have been to schedule this somewhere out of India. But they insisted on doing this in India.\n",
            "\n",
            "90) Hill Vogue: IPL suspended, Australians now in isolation\n",
            "Star cricketer Steve Smith and other Australians isolating in India are stranded after the IPL was suspended amid a widening coronavirus outbreak. Indian cricket officials say they’ll work to secure\n",
            " \n",
            "\n",
            "91) 81  They started to get high again during the England v India test series before the IPL even started.\n",
            "\n",
            "92) Came after an evening show and what I saw was Bazz going thru RCB bowlers in death. \n",
            "\n",
            "157 of Bazz on inaugural match was enough for me to love it, welcome to Indian Premier League.\n",
            "\n",
            "Lesson learnt : No more evening shows while IPL\n",
            "\n",
            "RR winning 1st IPL without even a coach. \n",
            "\n",
            "93) Hosting IPL 14 in India was the right call, situation deteriorated quickly: Ness Wadia | Cricket News – Times of India \n",
            "\n",
            "94) 68 _Speers English cricketers who went to India to play in the IPL can just fly home Australian cricketers who try to do the same face fines or jail.\n",
            "\n",
            "95) टी20 लीग स्थगित लेकिन खतरा बरकरार, सीएसके के बल्लेबाजी कोच पॉजिटिव/IPL 2021 Chennai super kings corona cases Michael hussy tests positive \n",
            "\n",
            "96) If IPL is cancelled even then Australian Players can't even go to home. Because they would face huge fines and 5 years jail.\n",
            "Inhain PSL me bula lain ?\n",
            "IPL \n",
            "PSL6 \n",
            "\n",
            "97) Let BCCI pay Rs 1000 crores as damages for staging IPL 2021 amid Covid crisis: PIL filed in Bombay High Court \n",
            "\n",
            "98) I think the Australian cricket players in India for the  will be just fine.\n",
            "\n",
            "Imagine living in a shanty 20 km away from the city being faced with Covid-19??\n",
            "\n",
            "But i believe that all Australian citizens have a right to return home too - do the isolation &amp; tests.\n",
            "\n",
            "99)  While our govt is trying to protect the nation from an even more potent strain of COVID19 than here presently u boys run off to play cricket in a country severely infected by this new strain!Reprehensible! And I’m a nurse!!   cricket \n",
            "\n",
            "100) Who wants IPL when you can watch reruns of BGT. Gabba memories ❤️\n",
            "\n",
            "101) टी20 लीग स्थगित लेकिन खतरा बरकरार, सीएसके के बल्लेबाजी कोच पॉजिटिव/IPL 2021 Chennai super kings corona cases Michael hussy tests positive \n",
            "\n",
            "102) PBKS vs MI Live Score, IPL 2021: Mumbai Indians seek consistency; Punjab Kings eye return to winning ways \n",
            "\n",
            "103) 99% kumbh devotees, many IPL Players tested covid positive. Govt allowed them to spread the virus. But many Tablighi Jamaat members still await trial for no fault of theirs. Waah Modi Ji waah!\n",
            "Resign_PM_Modi\n",
            "\n",
            "104) 73  it is necessary vikki paaji because their is so many cases are occur in ipl even in bio bubble are their.\n",
            "\n",
            "105) Delhi recorded more deaths than runs scored on IPL match days \n",
            "\n",
            "106) IPL 2021 Suspended Updates: Confirmation – DC Spinner Amit Mishra Tests COVID Positive \n",
            "\n",
            "107)  IPL has kept us going through this hard time... Something to look forward at the end of the day... Yes it does have an empty feeling. Stay safe everyone\n",
            "\n",
            "108) 818_shubham  Bhai best season 2016 ka tha ipl Mai naye aaye Ho kya 🤣🤣\n",
            "\n",
            "109) IPL 2021: Suspension of IPL due to COVID-19 threat a case of better late than never \n",
            "\n",
            "110) Australian cricket legend Mike Hussey has reportedly tested positive for COVID-19 in India while coaching the IPL team. 9News\n",
            "\n",
            "DETAILS:  \n",
            "\n",
            "111) His reported positive test comes just one day after Chennai's bowling coach was found to have contracted COVID-19.\n",
            "\n",
            "This latest development comes after former cricketer Michael Slater claimed Scott Morrison had \"blood on his hands\" over the blanket Indian travel ban IPL COVID19\n",
            "\n",
            "112) IPL suspended. Kangana's twitter account suspended. Universe maintaining its balance of good and bad.\n",
            "\n",
            "IPL2021 Kanganasuspended iplcancel KanganaTeam kanganarunout \n",
            "\n",
            "113) The BCCI/IPL promised safety for its people from the world outside. This became impossible to deliver. The nonsense about playing for \"humanity\" must stop. The financial harm in cancellation is absolutely nothing compared to the greater damage COVID is doing to the economy\n",
            "\n",
            "114) 99% kumbh devotees, many IPL Players tested covid positive. Govt allowed them to spread the virus. But many Tablighi Jamat members still await trial for no fault of theirs. Waah Modi Ji Waaah!\n",
            "\n",
            "115) The pill is bitter: Swallow.\n",
            "The 2021 IPL should not be rescheduled. It should end as is, with no winner.\n",
            "There should be no attempt to negotiate a fresh \"window\". There's no room for one, nor justification for one. ...cont\n",
            "\n",
            "116) Australian cricketer reportedly tests positive to COVID-19 in India as IPL tournament is suspended \n",
            "\n",
            "117)  Well at last sanity prevails... Otherwise its just a shame for a country where 38.8 mln people getting Covid-19 per day and death toll of more 33 k per day is on the trot.\n",
            "This kinna festival is a disrespect to those whom lost their loved ones with out oxygen.\n",
            "Killer Modi \n",
            "\n",
            "118) IPL (money) is more important than dying people OxygenChorIndia\n",
            "\n",
            "119) _slats It’s quite clearly about money. Millions around the work used to travel for work, and now can’t - why are you different? greed ipl iplcancel\n",
            "\n",
            "120)  IPL is neither a sports nor cricket but stage for  endorsing firms for their products.  Matches are more frequently fixed for the benefit of bookies. It should be banned.\n",
            "\n",
            "121)    After showing so much arrogance. Lol\n",
            "\n",
            "122) IPL postponed, BCCI to arrange for safe passage for all participants\n",
            "\n",
            "iplpostponed\n",
            "\n",
            "123)  Whatever is happened it will be good for team India  , I think now I'm getting confidence that India will beat Kiwis in ICT final because of early finish of ipl and long practice sessions\n",
            "\n",
            "124) I don't care how much spin the Publicists of 31 49 or any other Cricket player or commentator put on it\n",
            "\n",
            "They went to India in March for IPL knowing the COVID19 risk - they are now last in the return queue\n",
            "\n",
            "auspol greed   \n",
            "\n",
            "125) Warner posts a letter from his Daughter.\n",
            "Suck it up Warner.\n",
            "You would have been away with the IPL anyway.\n",
            "I think it’s fine that you went but don’t play the Sob Story now. It doesn’t wash with most Aussies.\n",
            "\n",
            "Warner’s heartbreaking post as IPL suspended \n",
            "\n",
            "126)   Dc is top\n",
            "\n",
            "127) Am I being a Asshole thinking DavidWarner pulling out his children's come home daddy letter is a little rich ? Maybe he can use some of his IPL money to dry his tears. And no I don't agree with  locking citizens out of our country.\n",
            "\n",
            "128) NOW | Cricket Australia is working through plans to safely accommodate Australian players in India – and bring them home when possible. \n",
            "\n",
            "The IPL has been indefinitely suspended due to the country's Covid crisis\n",
            "\n",
            " speaks to _Greenberg, CEO of the  _Players.\n",
            "\n",
            "129)  No I don't. I do need healthy sportsmen.\n",
            "\n",
            "IPL is about money - nothing wrong with that. BCCI did what they could to safeguard the richest cricket tournament.\n",
            "\n",
            "It gave Indians something to look forward to, employs huge numbers, pays big taxes, made huge donations, boosts economy.\n",
            "\n",
            "130) @7NewsAustralia 31 49  Absolute trash. I don’t want to be seeing snotty kids’ F grade artwork on Twitter. Let the government do their job. You focus on cricket\n",
            "\n",
            "131) The whole IPL just got a 'CEAT Tyre Strategic Timeout'.\n",
            "iplsuspended\n",
            "\n",
            "132) Nice project join \n",
            "   \n",
            "\n",
            "133) NEXT LIVE ||&gt; BBC WORLD SERVICE NEWS HOUR&gt;&gt;\n",
            "Mexico City train crash kills over 20 people\n",
            "The Mexican authorities promise an independent investigation. Also: India suspends the IPL cricket tournament; and Bill and Melinda Gates are to divorce after 27 years of marriage. \n",
            "\n",
            "134) Hosting IPL-14 in India the right call, says Ness Wadia \n",
            "\n",
            "135) With the  cancelled  decided to take on  in an in-house day/night quick cricket match with a bbq interval. Feels very summery monktonboarding iloveboarding monktoncommunity britishsummer bbq \n",
            "\n",
            "136)   People who were happy abt ipl money now gand phat h hath m agae h unki b wapas kese jae ab\n",
            "\n",
            "137) हार के बाद बोले SRH के कोच, उनकी टीम वापसी कर सकती है/CSK vs SRH IPL 2021 Important that we dont lose confidence or patience says head coach Trevor Bayliss after fifth loss \n",
            "\n",
            "138) Cricket News (Prithvi Shaw 6 fours in first Over 4 4 4 4 4 4 to Shivam Mavi in IPL 2021 KKR vs DC Match) has been published on  -  \n",
            "\n",
            "139) Hosting IPL-14 in India the right call, says Ness Wadia \n",
            "\n",
            "140)  21  More proof that the PSL is clear. IPL is not top 10 in my book \n",
            "\n",
            "141)  Welcome to being stuck in India. Our plight  20/03/2020 India commercial flight ban for us normals &amp; Aust Gov't left us to rot since then. zero options to get home. Please help us fight for our rights.  We need advocates like you!\n",
            "\n",
            "142) IPL brought to a halt as more players test positive for COVID19\n",
            "IPL cricket\n",
            "Here are today's sports headlines read to you by . Hit the link to listen now:\n",
            " \n",
            "\n",
            "143) Ps... regarding the IPL.... many Indians on twitter were laughing when the PSL was cancelled because of Covid. I'm gutted both have been cancelled. I'm gutted for my Indian friends suffering from Covid. As for those making fun of PSL, life's a bitch. Karma gets you in the end.\n",
            "\n",
            "144) LATEST\n",
            "\n",
            "Reports Mike Hussey Has Caught COVID In India As IPL Suspended \n",
            "\n",
            "145)  Welcome to being stuck in India. Our plight  20/03/2020 India commercial flight ban for us normals &amp; Aust Gov't left us to rot since then. zero options to get home. Please help us fight for our rights.  We need advocates like you!\n",
            "\n",
            "146) The Wuhan Super Bats have been named winners of IPL 2021.\n",
            "iplpostponed\n",
            "\n",
            "147)  I will do an awesome logo for your business \n",
            "please contact me:\n",
            "\n",
            "148) “The Indian Premier League (IPL) was suspended indefinitely on Tuesday due to the COVID19 crisis in the country, leaving many international_players with major concerns over how they will return home.” \n",
            "\n",
            "149) Cricket South Africa (CSA) officials are working closely with the Indian Premier League (IPL) franchises in a bid to ensure the safe and expedited return of the South African players and support staff who were part of the event. \n",
            "\n",
            "150)   360 That's why he is saying that Modi had handled Pandemic such well that we could enjoy rallies, kumbh, riots, IPL during Pandemic. Wah modi ji Wah\n",
            "\n",
            "151) Good morning!\n",
            "\n",
            "Coming up with _93 and 283\n",
            "-\n",
            "- \n",
            "-\n",
            "- Rodney Eade\n",
            "-Quiz Returns\n",
            "-Damian Martin \n",
            " - 's Tony Pignata\n",
            " -  from _touch\n",
            "And we'll discuss the big sporting issues including IPL being postponed\n",
            "\n",
            "152) Credit to Pat Cummins who knows they had a commitment until early June, he knows what’s up. No sympathy from me towards any of the Australian IPL players 🤑\n",
            "\n",
            "153)    ,,, why did then cricket Australia give them nod,,, \n",
            "Were the Aussies only in ipl. If English, Kiwis, proteas, windies,,,,,,,,  etc are allowed to go back,,, why not Aussies,, isn't NewZealand  covid free, isn't England safe,,,, SCOMO MAKING IT DELIBERATELY HARSH, NOTHING ELSE\n",
            "\n",
            "154)  AHHH perfect gif! Quidditch is the new IPL 🥳🧹\n",
            "\n",
            "155)  Yeh better for Indian high officials to play against COVID-19 first and cricket later\n",
            "\n",
            "156)  This is indeed so nice of 31's daughters making a plea for their father to come home from India as it suspends IPL matches due to COVID-19 leaving cricketers, coaches and commentators stranded there.\n",
            "\n",
            "157) _ I was expecting indians to come up and beat china's record to build a hospital within record time, since they claim to be super power of asia, instead they still occupied stadiums for IPL.\n",
            "\n",
            "158)   sir 4xbet te ਲਾ ਲਵਾਂਗੇ। App. on Google play store\n",
            "ipL. dream11 ਤੇ ਵੀ।  its social media apps sir\n",
            "\n",
            "159) __07  Now he will leave IPL with new va🤣🤣riat in his bowling \n",
            "\n",
            "160) Very nicely done IPL \n",
            "\n",
            "161) Happy Tuesday! ❤️ Live now with Splatoon *placements* and DAY 5 of our PartnerPush!!\n",
            "\n",
            "Tonight I’ll be revisiting n-zap to practice for IPL on Friday w/the Splat Busters! ☺️\n",
            "\n",
            " \n",
            "\n",
            "162) This year no ipl \n",
            "No study \n",
            "Not going outside \n",
            "Im just waiting for \n",
            "Pathan and Radhe \n",
            "   \n",
            " Very very excited to see ypu both after some long time sir ❤️\n",
            "\n",
            "163)  Good decision\n",
            "\n",
            "164) Mike Hussey tests positive to Covid in India, IPL suspended \n",
            "\n",
            "165) Former RCB star Tabraiz Shamsi says learning new things in tournaments like IPL is more important than money \n",
            "\n",
            "166) IPL Fantasy 2021: Best Fantasy XI for Match 31 – SRH vs MI \n",
            "\n"
          ],
          "name": "stdout"
        }
      ]
    },
    {
      "cell_type": "markdown",
      "metadata": {
        "id": "vpWpg4XeaUQB"
      },
      "source": [
        "**Print the negative tweets in descending order. The most negative tweet is the #1 tweet.**"
      ]
    },
    {
      "cell_type": "code",
      "metadata": {
        "id": "RhniOlbnaZm5",
        "colab": {
          "base_uri": "https://localhost:8080/"
        },
        "outputId": "7c777756-42c0-4206-be04-aba9c0af6391"
      },
      "source": [
        "# Printing negative tweets  \n",
        "print('Printing negative tweets:\\n')\n",
        "j=1\n",
        "sortedDF = df.sort_values(by=['Polarity'],ascending=False) #Sort the tweets\n",
        "for i in range(0, sortedDF.shape[0] ):\n",
        "  if( sortedDF['Analysis'][i] == 'Negative'):\n",
        "    print(str(j) + ') '+sortedDF['Text'][i])\n",
        "    print()\n",
        "    j=j+1"
      ],
      "execution_count": null,
      "outputs": [
        {
          "output_type": "stream",
          "text": [
            "Printing negative tweets:\n",
            "\n",
            "1) With the IPL/India travel ban, the Australian public showing its typical compassion for the athletes that entertain us...ie, your job is risky, don’t make me think about it.\n",
            "\n",
            "2)   Tumhare ammi abu ka nahi kah sakta par mere Ammi aur Abba dono Pakistan born hain, and what does IPL has to do with anything ? waise bhi mai cricket nahi dekhta , aur jo banda Ramzan mai kisi ki maut ki dua manaye vo ekdum ghatiya tareen insaan hai, Allah hidayat de tum jaiso ko\n",
            "\n",
            "3) BCCI set to incur losses of over Rs 2000 crore due to COVID-forced IPL postponement | Cricket News – Times of India \n",
            "\n",
            "4)  It's very bad decision but what to do as covid affect cricke\n",
            "\n",
            "5) Cancel Cricket for Men!! \n",
            "Give the Game to the Girls! \n",
            "4 arrested over kidnapping of Stuart MacGill? \n",
            "Cricket's Hussey 'positive for COVID' as IPL cancelled? \n",
            "Deputy PM: \n",
            "India ban sends messages from Dopes in Australia's Political Scene?  \n",
            "\n",
            "6) IPL suspended due to Covid-19, foreign players fret over return \n",
            "\n",
            "7) 100mph When PSL got cancelled; you were saying that its very bad decision and bad planning. Even you criticized each n every step of it... and now when IPL got cancelled you r proofing it to be right step...wow\n",
            "\n",
            "8) We lost both type of entertainment one is kangana's account and other is   IPL . Both  suspended\n",
            "\n",
            "9) I thought that  was happening in another planet... And CoronaVirus cannot reach there. It seems I was wrong. \n",
            "\n",
            "10)   Tmhary to jesy bhaagy ni foreign player\n",
            "\n",
            "11) 75536281 77405770  73  No telecast we are watching on your black market tata sky dish tv videocon pakistan ma sb chalta hai bcz money league hai na to gambling must ha is par\n",
            "\n",
            "12)  The country is in state_of_emergency... IPL and the m likes should be least of the worries. WakeUp\n",
            "\n",
            "13) The IPL failed by ignoring stark warning signs of India’s Covid crisis | Anand Vasu \n",
            "\n",
            "14) IPL 2021 Suspended: Unaffected Teams Start Leaving bio-bubble  via \n",
            "\n",
            "15)  Even IPL was Bored Without 31 \n",
            "\n",
            "\n",
            "16) _one_22_7  Even IPL  was bored without Warner \n",
            "\n",
            "17)   Vidshi player ko too pata nahi IPL main hota kya hai. Sachin dhoni sahwag ghambir jaise ne too 2011 world cup final match fix kar diya tha. Ipl k sab match fix hai. Bookie har match main 1500  crore se jyada kama rahe hai.satta game hai sab\n",
            "\n",
            "18) IPL suspended indefinitely due to Covid-19 crisis in India \n",
            "\n",
            "19)  First COVID case to ruin IPL.. loosers, bloody loosers\n",
            "\n",
            "20) Fuck  IPL is cancelled now we can't see all those cred ads _club  \n",
            "\n",
            "21) StrandedAussies March 2020\n",
            "\"Should have come home earlier, fuck em\"\n",
            "\n",
            "IPL cricketers stranded 2021\n",
            "\"Oh mate, its unAustralian how could we do that to them\"\n",
            "\n",
            "Fucking virtue signalling hypocritical CUNTS.\n",
            "\n",
            "ScumNation\n",
            "ScottyTheRacist \n",
            "Auspol\n",
            "\n",
            "22) In these lockdown days watching web series, IPL &amp; very away from news channels and papers no reason  to tell why? Anyway till date two are my favourite series \n",
            "Patal lok \n",
            "Criminal Justice -1.\n",
            "\n",
            "23) 19  Abe tere pakistan ki tarah toh kam se kam nhi h jaha har ek team m covid cases the or tumlog ne kuch precautions nhi liye or bc sab foreign players bhag k aagaye gazab bezzati🤣🤣\n",
            "\n",
            "24)  Mass... What??? Is half of Straya out there for the IPL ?? 🤔\n",
            "\n",
            "25) 4376014  Expected on September\n",
            "\n",
            "26)  Too late! Isn't it? U kept going and going for it because of $$$.. Should have stopped it sooner while poor Indians were dying on the streets.   \n",
            "\n",
            "27) The IPL failed by ignoring stark warning signs of India's Covid cri... (the Guardian)\n",
            "\n",
            "t's better to leave people asking why you have stopped something rather than what took you s...\n",
            "\n",
            "Add your highlights:\n",
            "\n",
            " tech techbiz\n",
            "\n",
            "28) _IN Virat Kohli is my favourite. \n",
            "\n",
            "Because he is the best cricketer in world. Also he can destroy a bowler in death overs. He has a insane batting captaincy skill. My favourite IPL team RCB is rocking in this year.\n",
            "\n",
            "vivo VIVOIPL FuntouchOS PerfectFan _IN\n",
            "\n",
            "29)     How can you ask someone to voluntarily stay at home? When they need to tend to their workplace dynamics. Everyone is not blessed. This chain cannot be broken without Lockdown. Plateauing is owing to fewer tests not anything else.\n",
            "\n",
            "30) 1 Once the IPL was suspended and white Australians (or as a racist on Twitter wrote - not faux Australians) wanted to come home it was time to dilute the ban.\n",
            "\n",
            "Still waiting to see how those poor white South African farmers that Dutton advocated so hard for are going auspol\n",
            "\n",
            "31) 100mph Finally ipl has been pulled out not bcz of Indians are dying but bcz of positive cases of cricket players... sometimes money can be pathetic... nothing is important than the human life\n",
            "\n",
            "32) Covid-19: Unaffected IPL teams start leaving bio-bubble \n",
            "\n",
            "33)  I suspect this is going to be after the T20 World Cup which will be held in the UAE where the PSL will be and the IPL.......\n",
            "\n",
            "Players may as well make long term bookings\n",
            "\n",
            "34)  I wish Indian Players would hv boycotted the ipl as soon as covid second wave hit us.. but you all cared about money.. that's all.. You are speaking now bcz IPL is cancelled, else we wouldn't hv heard a single word from you and your colleagues.\n",
            "\n",
            "35) Aussies one small step closer to home as IPL escape plan is revealed  \n",
            "\n",
            "36) @7NewsAustralia 31 49  No one feels bad for these people. They were too busy worrying about chasing the millions during a pandemic. This is what happens!\n",
            "\n",
            "37) 29      If you would have checked Google instead of WhatsApp, you will know IPL chairman is Brijesh Patel not Rajiv Shukla... Why repeating wrong information in all Comments?? \n",
            "\n",
            "38) IPL suspended due to COVID-19, foreign players fret over return  \n",
            "\n",
            "39)   Ipl is like cancer for crkt, it destroyed the game completly,,,nice to see end of this shitty fixing league Now world cricket will flourish,,,Happy Times\n",
            "\n",
            "40) IPL was a good timepass to spend this boring time… even we people try to forget the bad environment which is running all over the India due to COVID-19.\n",
            "\n",
            "41)  Definitely hope and pray the world will be a better place sooner than later and we come out of this horrible pandemic. I do however believe events like IPL and PSL for that matter are not victim but almost perpetrator and spreaders at this point\n",
            "\n",
            "42) IPL: Indian Premier League indefinitely suspended due to Covid-19 crisis \n",
            "\n",
            "43) IPL Postponed: BCCI Will “Find A Way” To Send Foreign Players Home, Says IPL Chairman \n",
            "\n",
            "44) No test and trace and health “system collapse” led to cancellation\n",
            "\n",
            "COVID19India IPL \n",
            "\n",
            "The IPL failed by ignoring stark warning signs of India’s Covid crisis | Anand Vasu \n",
            "\n",
            "45)  I hope it's take too much time to improve due to poor management. IPL and t20 should be held in dubai\n",
            "\n",
            "46) i am shocked and saddened at how ipl is being conducted in this country with covid situation getting totally out of control.stop this season asap,cacel all games.give the trophy to RCB .Their fans have suffered a lot in the past and they deseve all the happiness❤ \n",
            "\n",
            "47) _meMegha 1 Iss Saal Ka IPL Bohat Bura Tha Mere Liye 🤧\n",
            "\n",
            "48) _badger  I think  it's a great opportunity for everyone to have a rest and be out of the bubbles. Very difficult I'd have thought esp for players like Malan barely getting a game. Can't see why world t20 would be off, and if it was, presumably it would be for reasons impacting IPL too.\n",
            "\n",
            "49) 1   Wot a shame Australian  boys didn’t see this pic b4 they left 4 India!! Our govt is trying to protect the nation frm an even &gt; potent strain of COVID19 than here while boys run off to play cricket in a country severely infected by this new strain! Outrageous! I’m a nurse! \n",
            "\n",
            "50)  Sorry to hear about Hussey but chase the dollars &amp; it can affect your judgement. IPL should have never been played in India ravaged by Covid.\n",
            "\n",
            "51) England players face travel obstacles after IPL 2021 postponement \n",
            "\n",
            "52)  If your saying David Warner does not fit in the combination .....  WOW........I don't know who makes such weirdest of discisions ....it's like dropping from the Indian Team......\n",
            "\n",
            "53) So sad to see  postponed due to COVID19. All the best to India in getting through these crazy times. IPL2021\n",
            "\n",
            "54) Covid-19: Unaffected IPL teams start leaving bio-bubble \n",
            "\n",
            "55) Breaking News : Pat Cummins isolating as IPL teammates fall sick amid COVID outbreak\n",
            "\n",
            "\n",
            "56) Worst app abhi tak bet settle nhi hui h cancel ho gya ipl phir bhi ... Worst app \n",
            "\n",
            "57) COVID19 SaveSheikhJarrah AntiStudentPTI BillGates COVID19India IPL KanganaRanaut Lahore PakistanRejects_EUResolution \n",
            "\n",
            "Inhi Baaton Ki Wajah Se E Single Reh Gya Hn 🤦‍♂️ \n",
            "\n",
            "58) BCCI set to lose over Rs 2000 Cr due to COVID-forced IPL postponement\n",
            "\n",
            "\n",
            "\n",
            "59) IPL: CSA in contact with teams to ensure expedited travel of SA contingent \n",
            "\n",
            "60)  Due respect, this was never a joke to start with. The fact that IPL was commenced in this situation might have been a joke, but the covid crisis was always serious and never a joke.\n",
            "\n",
            "61) IPL suspended, but survey shows 33% Indians wanted it to go on \n",
            "\n",
            "You have to be sick in the head to want this after seeing your country get ravaged by a pandemic!\n",
            "\n",
            " via \n",
            "\n",
            "62) So, are the cricket players returning from India after the cancellation of the IPL tournament going to quarantine in a hotel, as any other person would have to?\n",
            "\n",
            "63) @7NewsAustralia 31 49  Poor darlings. Finally being treated like the rest of us.\n",
            "\n",
            "64) Today's market fall due to suspension of IPL. I think. Whats you. nifty\n",
            "\n",
            "65) @7NewsAustralia 31 49  Oh boo hoo little Davey\n",
            "\n",
            "66) With the IPL Cricket being cancelled, will  guarantee that these POOR athletes get paid what is due to them?\n",
            "auspol Credlin\n",
            "\n",
            "67) 7752  62 Picture abi baki hai mere dost 4 lakh cases per day IPL tata t20 world cup finish bye bye 🤣🤣🤣🤣 wah modi g wah\n",
            "\n",
            "68) Between Wickets | IPL: late call, but the right one as things spiral down rapidly \n",
            "\n",
            "69)  Coronas is a hoax.  Wake the fuck up . Its the vaccines that are the killers. Standtalltogether!\n",
            "\n",
            "70)  Dumb to even try to run it\n",
            "\n",
            "71) IPL 2021: Riyan Prag posted a joke after this season postponed due to Covid | Corona Virus की भेंट चढ़ा IPL 2021, Rajasthan Royals के Riyan Prag ने लिए मजे \n",
            "\n",
            "72) _ There are too many but they are not revealing it because it will put a bad impression on IPL name\n",
            "\n",
            "73) Factbox: Reaction to suspension of IPL due to COVID-19 crisis  \n",
            "\n",
            "74) _xixx _Ayuu_ bhaak IPL ni h toh ghnta CSK \n",
            "\n",
            "only rubi walon ko add kr kooch mere jasie ko bs \n",
            "\n",
            "apun ko fandom ghumne ka hai na meri old demand h plz poori krde\n",
            "\n",
            "75)  _Ayuu_  arey bht log n bola ipl csk ka bna n other ab kiska bnau jbse grp hataya almost log yhi bole\n",
            "\n",
            "76) IPL 2021 Postponed: Unfortunate But \"Correct Decision\", Says Ness Wadia \n",
            " \n",
            "\n",
            "77) Dennis not going slow ipl dennistweets \n",
            "\n",
            "78) So sad IPL is suspended \n",
            "\n",
            "79)  Sad  \n",
            "Unfortunate. Hope IPL will resume in a month or two surely \n",
            "Jai sri ram \n",
            "\n",
            "80)  5 _ Lol dumb bhakt IPL is financed by Chinese brand with headquarters in Guandong, China. \n",
            "Last I checked Chinese and other nations were giving covid supplies and O2 in aid to India because thousands of poor are dying on streets. Don't consider Ambani's money as yours.\n",
            "\n"
          ],
          "name": "stdout"
        }
      ]
    },
    {
      "cell_type": "markdown",
      "metadata": {
        "id": "5T9fRDeMacjJ"
      },
      "source": [
        "**Plot the polarity and subjectivity as a scatter plot. It looks like the majority of the tweets are positive, as many of the points are on the right side of the polarity at value 0.00.**"
      ]
    },
    {
      "cell_type": "code",
      "metadata": {
        "id": "k4Vveryqan_D",
        "colab": {
          "base_uri": "https://localhost:8080/",
          "height": 405
        },
        "outputId": "4f808dc2-b9bd-45cd-d051-8975678e9663"
      },
      "source": [
        "# Plotting \n",
        "plt.figure(figsize=(8,6)) \n",
        "for i in range(0, df.shape[0]):\n",
        "  plt.scatter(df[\"Polarity\"][i], df[\"Subjectivity\"][i], color='Blue') \n",
        "# plt.scatter(x,y,color)   \n",
        "plt.title('Sentiment Analysis') \n",
        "plt.xlabel('Polarity') \n",
        "plt.ylabel('Subjectivity') \n",
        "plt.show()"
      ],
      "execution_count": null,
      "outputs": [
        {
          "output_type": "display_data",
          "data": {
            "image/png": "[encoded data removed]",
            "text/plain": [
              "<Figure size 576x432 with 1 Axes>"
            ]
          },
          "metadata": {
            "tags": [],
            "needs_background": "light"
          }
        }
      ]
    },
    {
      "cell_type": "markdown",
      "metadata": {
        "id": "FsYKfdp5atts"
      },
      "source": [
        "**Print the percentage of positive tweets. About 81/100 of the tweets are considered positive tweets**"
      ]
    },
    {
      "cell_type": "code",
      "metadata": {
        "id": "BtnJF8OZazzp",
        "colab": {
          "base_uri": "https://localhost:8080/"
        },
        "outputId": "913c4160-9f06-4736-dee3-eea3f79377e5"
      },
      "source": [
        "# Print the percentage of positive tweets\n",
        "ptweets = df[df.Analysis == 'Positive']\n",
        "ptweets = ptweets['Text']\n",
        "ptweets\n",
        "\n",
        "round( (ptweets.shape[0] / df.shape[0]) * 100 , 1)"
      ],
      "execution_count": null,
      "outputs": [
        {
          "output_type": "execute_result",
          "data": {
            "text/plain": [
              "33.1"
            ]
          },
          "metadata": {
            "tags": []
          },
          "execution_count": 14
        }
      ]
    },
    {
      "cell_type": "markdown",
      "metadata": {
        "id": "TYVJBW23a4wx"
      },
      "source": [
        "**Print the percentage of negative tweets. About 9/100 tweets are considered negative tweets**"
      ]
    },
    {
      "cell_type": "code",
      "metadata": {
        "id": "C-WzoS0pa6XB",
        "colab": {
          "base_uri": "https://localhost:8080/"
        },
        "outputId": "b6621d0f-a081-4c15-db7a-ebcf1df79bcb"
      },
      "source": [
        "# Print the percentage of negative tweets\n",
        "ntweets = df[df.Analysis == 'Negative']\n",
        "ntweets = ntweets['Text']\n",
        "ntweets\n",
        "\n",
        "round( (ntweets.shape[0] / df.shape[0]) * 100, 1)"
      ],
      "execution_count": null,
      "outputs": [
        {
          "output_type": "execute_result",
          "data": {
            "text/plain": [
              "16.0"
            ]
          },
          "metadata": {
            "tags": []
          },
          "execution_count": 15
        }
      ]
    },
    {
      "cell_type": "markdown",
      "metadata": {
        "id": "uOJBBo-va9P4"
      },
      "source": [
        "**Show the value counts. Now we can see 81 tweets are positive, 10 are neutral, and 9 are negative**"
      ]
    },
    {
      "cell_type": "code",
      "metadata": {
        "id": "AVacNceZbGyg",
        "colab": {
          "base_uri": "https://localhost:8080/"
        },
        "outputId": "281a9ace-7fd6-4a72-c9af-57880945f0cf"
      },
      "source": [
        "# Show the value counts\n",
        "df['Analysis'].value_counts()"
      ],
      "execution_count": null,
      "outputs": [
        {
          "output_type": "execute_result",
          "data": {
            "text/plain": [
              "Neutral     255\n",
              "Positive    166\n",
              "Negative     80\n",
              "Name: Analysis, dtype: int64"
            ]
          },
          "metadata": {
            "tags": []
          },
          "execution_count": 16
        }
      ]
    },
    {
      "cell_type": "markdown",
      "metadata": {
        "id": "QNbhVQNZbIyI"
      },
      "source": [
        "**Visually show the value counts**"
      ]
    },
    {
      "cell_type": "code",
      "metadata": {
        "id": "VerNBS_5bMD5",
        "colab": {
          "base_uri": "https://localhost:8080/",
          "height": 331
        },
        "outputId": "0caf2a8e-1b88-4f8b-af79-fbe0c953358b"
      },
      "source": [
        "# Plotting and visualizing the counts\n",
        "plt.title('Sentiment Analysis')\n",
        "plt.xlabel('Sentiment')\n",
        "plt.ylabel('Counts')\n",
        "df['Analysis'].value_counts().plot(kind = 'bar')\n",
        "plt.show()"
      ],
      "execution_count": null,
      "outputs": [
        {
          "output_type": "display_data",
          "data": {
            "image/png": "[encoded data removed]",
            "text/plain": [
              "<Figure size 432x288 with 1 Axes>"
            ]
          },
          "metadata": {
            "tags": [],
            "needs_background": "light"
          }
        }
      ]
    }
  ]
}