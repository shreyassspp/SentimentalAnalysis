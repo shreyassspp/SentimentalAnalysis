{
  "nbformat": 4,
  "nbformat_minor": 0,
  "metadata": {
    "colab": {
      "name": "Sentiment Analysis Twitter.ipynb",
      "provenance": [],
      "collapsed_sections": []
    },
    "kernelspec": {
      "name": "python385jvsc74a57bd01baa965d5efe3ac65b79dfc60c0d706280b1da80fedb7760faf2759126c4f253",
      "display_name": "Python 3.8.5 64-bit"
    },
    "language_info": {
      "codemirror_mode": {
        "name": "ipython",
        "version": 3
      },
      "file_extension": ".py",
      "mimetype": "text/x-python",
      "name": "python",
      "nbconvert_exporter": "python",
      "pygments_lexer": "ipython3",
      "version": "3.8.5"
    },
    "metadata": {
      "interpreter": {
        "hash": "1baa965d5efe3ac65b79dfc60c0d706280b1da80fedb7760faf2759126c4f253"
      }
    }
  },
  "cells": [
    {
      "cell_type": "markdown",
      "metadata": {
        "id": "lE4AuGbRjce5"
      },
      "source": [
        "# **Import The Libraries and Packages**"
      ]
    },
    {
      "cell_type": "code",
      "metadata": {
        "id": "8OEQTX75jjyO",
        "scrolled": true
      },
      "source": [
        "import tweepy\n",
        "from textblob import TextBlob\n",
        "from wordcloud import WordCloud\n",
        "import pandas as pd\n",
        "import numpy as np\n",
        "import re\n",
        "import matplotlib.pyplot as plt\n",
        "plt.style.use('fivethirtyeight')"
      ],
      "execution_count": null,
      "outputs": []
    },
    {
      "cell_type": "code",
      "metadata": {
        "id": "NqiOMwSRyR6D"
      },
      "source": [
        "!pip3 install snscrape\n",
        "!pip install guess-language\n",
        "!pip install guess_language-spirit"
      ],
      "execution_count": null,
      "outputs": []
    },
    {
      "cell_type": "markdown",
      "metadata": {
        "id": "a7kW27tgm1Sp"
      },
      "source": [
        "# **Extract and Analyze the Data**"
      ]
    },
    {
      "cell_type": "code",
      "metadata": {
        "colab": {
          "base_uri": "https://localhost:8080/"
        },
        "id": "kT3r8Ar2uX7P",
        "outputId": "4877b5a6-bd11-4747-abec-41a5176bbf85"
      },
      "source": [
        "querySearch = input(\"Enter the query: \")\n",
        "since = input(\"Enter the start date: \")\n",
        "until = input(\"Enter the end date: \")"
      ],
      "execution_count": null,
      "outputs": [
        {
          "output_type": "stream",
          "text": [
            "Enter the query: coronavirus\n",
            "Enter the start date: 2021-01-01\n",
            "Enter the end date: 2021-02-02\n"
          ],
          "name": "stdout"
        }
      ]
    },
    {
      "cell_type": "code",
      "metadata": {
        "id": "moruCyPnud6G"
      },
      "source": [
        "import snscrape.modules.twitter as sntwitter\n",
        "\n",
        "# Creating list to append tweet data to\n",
        "t_list = []\n",
        "\n",
        "# Using TwitterSearchScraper to scrape data and append tweets to list\n",
        "for i,tweet in enumerate(sntwitter.TwitterSearchScraper(f'{querySearch} since:{since} until:{until}').get_items()):\n",
        "    if i>500:\n",
        "        break\n",
        "    t_list.append([tweet.content])\n",
        "  \n",
        "text = t_list\n"
      ],
      "execution_count": null,
      "outputs": []
    },
    {
      "cell_type": "markdown",
      "metadata": {
        "id": "h-_JbcVenAtx"
      },
      "source": [
        "**Extract the tweets of a Twitter user. First, get the last 100 posts for the Twitter user and show only the five most recent tweets**"
      ]
    },
    {
      "cell_type": "code",
      "metadata": {
        "id": "9bZLh5E-m_HH"
      },
      "source": [
        "\"\"\" # Extract 100 tweets from the twitter user\n",
        "posts = api.user_timeline(screen_name=\"\", count = 79, lang =\"en\", tweet_mode=\"extended\")\n",
        "\n",
        "#  Print the last 5 tweets\n",
        "print(\"Show the 5 recent tweets:\\n\")\n",
        "i=1\n",
        "for tweet in posts[:5]:\n",
        "    print(str(i) +') '+ tweet.full_text + '\\n')\n",
        "    i= i+1 \"\"\""
      ],
      "execution_count": null,
      "outputs": []
    },
    {
      "cell_type": "markdown",
      "metadata": {
        "id": "ub_L_tPFX5Ac"
      },
      "source": [
        "**Create a DataFrame with a column called Tweets that’ll contain the posts from the Twitter user, and then show the first five rows**"
      ]
    },
    {
      "cell_type": "code",
      "metadata": {
        "id": "L8py2gjzYA4v",
        "colab": {
          "base_uri": "https://localhost:8080/",
          "height": 202
        },
        "outputId": "f4f176f2-e98f-408c-ffee-426b6a04d43b"
      },
      "source": [
        "# Create a dataframe with a column called Tweets\n",
        "df = pd.DataFrame(t_list, columns=['Text'])\n",
        "# Show the first 5 rows of data\n",
        "df.head()"
      ],
      "execution_count": null,
      "outputs": [
        {
          "output_type": "execute_result",
          "data": {
            "text/html": [
              "<div>\n",
              "<style scoped>\n",
              "    .dataframe tbody tr th:only-of-type {\n",
              "        vertical-align: middle;\n",
              "    }\n",
              "\n",
              "    .dataframe tbody tr th {\n",
              "        vertical-align: top;\n",
              "    }\n",
              "\n",
              "    .dataframe thead th {\n",
              "        text-align: right;\n",
              "    }\n",
              "</style>\n",
              "<table border=\"1\" class=\"dataframe\">\n",
              "  <thead>\n",
              "    <tr style=\"text-align: right;\">\n",
              "      <th></th>\n",
              "      <th>Text</th>\n",
              "    </tr>\n",
              "  </thead>\n",
              "  <tbody>\n",
              "    <tr>\n",
              "      <th>0</th>\n",
              "      <td>Oh and during the entire course of all three s...</td>\n",
              "    </tr>\n",
              "    <tr>\n",
              "      <th>1</th>\n",
              "      <td>Cafiero \"Ya llevamos 370 mil vacunas aplicadas...</td>\n",
              "    </tr>\n",
              "    <tr>\n",
              "      <th>2</th>\n",
              "      <td>@RTLWEST Das #Coronavirus für das der #Impfsto...</td>\n",
              "    </tr>\n",
              "    <tr>\n",
              "      <th>3</th>\n",
              "      <td>Coronavirus Argentina - Nuevos casos diarios c...</td>\n",
              "    </tr>\n",
              "    <tr>\n",
              "      <th>4</th>\n",
              "      <td>Olivia Newton-John dice que no recibirá la vac...</td>\n",
              "    </tr>\n",
              "  </tbody>\n",
              "</table>\n",
              "</div>"
            ],
            "text/plain": [
              "                                                Text\n",
              "0  Oh and during the entire course of all three s...\n",
              "1  Cafiero \"Ya llevamos 370 mil vacunas aplicadas...\n",
              "2  @RTLWEST Das #Coronavirus für das der #Impfsto...\n",
              "3  Coronavirus Argentina - Nuevos casos diarios c...\n",
              "4  Olivia Newton-John dice que no recibirá la vac..."
            ]
          },
          "metadata": {
            "tags": []
          },
          "execution_count": 4
        }
      ]
    },
    {
      "cell_type": "markdown",
      "metadata": {
        "id": "jILSd2zQYMhS"
      },
      "source": [
        "**The data is a little dirty because it contains the @ symbol, hyperlinks, RTs, and may contain hash tags, so I’ll clean it up by creating a function to remove these symbols from the tweets. Then, apply that function to the tweets and show the results**"
      ]
    },
    {
      "cell_type": "code",
      "metadata": {
        "id": "WJWrhv2DYUZy",
        "colab": {
          "base_uri": "https://localhost:8080/",
          "height": 415
        },
        "outputId": "ccd214e7-4029-4bee-85a9-dd10e001d7c9"
      },
      "source": [
        "# Create a function to clean the tweets\n",
        "def cleanTxt(text):\n",
        " text = re.sub('@[A-Za-z0–9]+', '', text) #Removing @mentions\n",
        " text = re.sub('#', '', text) # Removing '#' hash tag\n",
        " text = re.sub('RT[\\s]+', '', text) # Removing RT\n",
        " text = re.sub('https?:\\/\\/\\S+', '', text) # Removing hyperlink\n",
        " \n",
        " return text\n",
        "\n",
        "\n",
        "# Clean the tweets\n",
        "df['Text'] = df['Text'].apply(cleanTxt)\n",
        "\n",
        "# Show the cleaned tweets\n",
        "df"
      ],
      "execution_count": null,
      "outputs": [
        {
          "output_type": "execute_result",
          "data": {
            "text/html": [
              "<div>\n",
              "<style scoped>\n",
              "    .dataframe tbody tr th:only-of-type {\n",
              "        vertical-align: middle;\n",
              "    }\n",
              "\n",
              "    .dataframe tbody tr th {\n",
              "        vertical-align: top;\n",
              "    }\n",
              "\n",
              "    .dataframe thead th {\n",
              "        text-align: right;\n",
              "    }\n",
              "</style>\n",
              "<table border=\"1\" class=\"dataframe\">\n",
              "  <thead>\n",
              "    <tr style=\"text-align: right;\">\n",
              "      <th></th>\n",
              "      <th>Text</th>\n",
              "    </tr>\n",
              "  </thead>\n",
              "  <tbody>\n",
              "    <tr>\n",
              "      <th>0</th>\n",
              "      <td>Oh and during the entire course of all three s...</td>\n",
              "    </tr>\n",
              "    <tr>\n",
              "      <th>1</th>\n",
              "      <td>Cafiero \"Ya llevamos 370 mil vacunas aplicadas...</td>\n",
              "    </tr>\n",
              "    <tr>\n",
              "      <th>2</th>\n",
              "      <td>Das Coronavirus für das der Impfstoff entwick...</td>\n",
              "    </tr>\n",
              "    <tr>\n",
              "      <th>3</th>\n",
              "      <td>Coronavirus Argentina - Nuevos casos diarios c...</td>\n",
              "    </tr>\n",
              "    <tr>\n",
              "      <th>4</th>\n",
              "      <td>Olivia Newton-John dice que no recibirá la vac...</td>\n",
              "    </tr>\n",
              "    <tr>\n",
              "      <th>...</th>\n",
              "      <td>...</td>\n",
              "    </tr>\n",
              "    <tr>\n",
              "      <th>496</th>\n",
              "      <td>The only people who deserve stimulus checks ar...</td>\n",
              "    </tr>\n",
              "    <tr>\n",
              "      <th>497</th>\n",
              "      <td>porro Bassetti VaccinoAntiCovid primule Covid_...</td>\n",
              "    </tr>\n",
              "    <tr>\n",
              "      <th>498</th>\n",
              "      <td>Wishes for 2021🤩\\n\\n1. Snow (Now) ❄️\\n2. Succe...</td>\n",
              "    </tr>\n",
              "    <tr>\n",
              "      <th>499</th>\n",
              "      <td>Coronavirus : \"En vaccinant les plus âgés, on ...</td>\n",
              "    </tr>\n",
              "    <tr>\n",
              "      <th>500</th>\n",
              "      <td>REPORTE DE LUNES 📋😷\\n\\nRosario volvió a regist...</td>\n",
              "    </tr>\n",
              "  </tbody>\n",
              "</table>\n",
              "<p>501 rows × 1 columns</p>\n",
              "</div>"
            ],
            "text/plain": [
              "                                                  Text\n",
              "0    Oh and during the entire course of all three s...\n",
              "1    Cafiero \"Ya llevamos 370 mil vacunas aplicadas...\n",
              "2     Das Coronavirus für das der Impfstoff entwick...\n",
              "3    Coronavirus Argentina - Nuevos casos diarios c...\n",
              "4    Olivia Newton-John dice que no recibirá la vac...\n",
              "..                                                 ...\n",
              "496  The only people who deserve stimulus checks ar...\n",
              "497  porro Bassetti VaccinoAntiCovid primule Covid_...\n",
              "498  Wishes for 2021🤩\\n\\n1. Snow (Now) ❄️\\n2. Succe...\n",
              "499  Coronavirus : \"En vaccinant les plus âgés, on ...\n",
              "500  REPORTE DE LUNES 📋😷\\n\\nRosario volvió a regist...\n",
              "\n",
              "[501 rows x 1 columns]"
            ]
          },
          "metadata": {
            "tags": []
          },
          "execution_count": 5
        }
      ]
    },
    {
      "cell_type": "markdown",
      "metadata": {
        "id": "9r2nl2SKYppK"
      },
      "source": [
        "**We need to add the tweets’ subjectivity and polarity to the DataFrame. In order to do this, We have to create two functions: one to get the tweets called Subjectivity (how subjective or opinionated the text is — a score of 0 is fact, and a score of +1 is very much an opinion) and the other to get the tweets called Polarity (how positive or negative the text is, — score of -1 is the highest negative score, and a score of +1 is the highest positive score).\n",
        "Next, store the results into two columns — one called Subjectivity and the other called Polarity — and show the results.**"
      ]
    },
    {
      "cell_type": "code",
      "metadata": {
        "id": "YqVw3RV1ZMB0",
        "colab": {
          "base_uri": "https://localhost:8080/",
          "height": 415
        },
        "outputId": "033a0cf1-101c-4019-ccb1-0e63288047ba"
      },
      "source": [
        "# Create a function to get the subjectivity\n",
        "def getSubjectivity(text):\n",
        "   return TextBlob(text).sentiment.subjectivity\n",
        "\n",
        "# Create a function to get the polarity\n",
        "def getPolarity(text):\n",
        "   return  TextBlob(text).sentiment.polarity\n",
        "\n",
        "\n",
        "# Create two new columns 'Subjectivity' & 'Polarity'\n",
        "df['Subjectivity'] = df['Text'].apply(getSubjectivity)\n",
        "df['Polarity'] = df['Text'].apply(getPolarity)\n",
        "\n",
        "# Show the new dataframe with columns 'Subjectivity' & 'Polarity'\n",
        "df"
      ],
      "execution_count": null,
      "outputs": [
        {
          "output_type": "execute_result",
          "data": {
            "text/html": [
              "<div>\n",
              "<style scoped>\n",
              "    .dataframe tbody tr th:only-of-type {\n",
              "        vertical-align: middle;\n",
              "    }\n",
              "\n",
              "    .dataframe tbody tr th {\n",
              "        vertical-align: top;\n",
              "    }\n",
              "\n",
              "    .dataframe thead th {\n",
              "        text-align: right;\n",
              "    }\n",
              "</style>\n",
              "<table border=\"1\" class=\"dataframe\">\n",
              "  <thead>\n",
              "    <tr style=\"text-align: right;\">\n",
              "      <th></th>\n",
              "      <th>Text</th>\n",
              "      <th>Subjectivity</th>\n",
              "      <th>Polarity</th>\n",
              "    </tr>\n",
              "  </thead>\n",
              "  <tbody>\n",
              "    <tr>\n",
              "      <th>0</th>\n",
              "      <td>Oh and during the entire course of all three s...</td>\n",
              "      <td>0.55119</td>\n",
              "      <td>0.142857</td>\n",
              "    </tr>\n",
              "    <tr>\n",
              "      <th>1</th>\n",
              "      <td>Cafiero \"Ya llevamos 370 mil vacunas aplicadas...</td>\n",
              "      <td>0.00000</td>\n",
              "      <td>0.000000</td>\n",
              "    </tr>\n",
              "    <tr>\n",
              "      <th>2</th>\n",
              "      <td>Das Coronavirus für das der Impfstoff entwick...</td>\n",
              "      <td>0.00000</td>\n",
              "      <td>0.000000</td>\n",
              "    </tr>\n",
              "    <tr>\n",
              "      <th>3</th>\n",
              "      <td>Coronavirus Argentina - Nuevos casos diarios c...</td>\n",
              "      <td>0.00000</td>\n",
              "      <td>0.000000</td>\n",
              "    </tr>\n",
              "    <tr>\n",
              "      <th>4</th>\n",
              "      <td>Olivia Newton-John dice que no recibirá la vac...</td>\n",
              "      <td>0.00000</td>\n",
              "      <td>0.000000</td>\n",
              "    </tr>\n",
              "    <tr>\n",
              "      <th>...</th>\n",
              "      <td>...</td>\n",
              "      <td>...</td>\n",
              "      <td>...</td>\n",
              "    </tr>\n",
              "    <tr>\n",
              "      <th>496</th>\n",
              "      <td>The only people who deserve stimulus checks ar...</td>\n",
              "      <td>1.00000</td>\n",
              "      <td>0.000000</td>\n",
              "    </tr>\n",
              "    <tr>\n",
              "      <th>497</th>\n",
              "      <td>porro Bassetti VaccinoAntiCovid primule Covid_...</td>\n",
              "      <td>0.00000</td>\n",
              "      <td>0.000000</td>\n",
              "    </tr>\n",
              "    <tr>\n",
              "      <th>498</th>\n",
              "      <td>Wishes for 2021🤩\\n\\n1. Snow (Now) ❄️\\n2. Succe...</td>\n",
              "      <td>0.46250</td>\n",
              "      <td>0.062500</td>\n",
              "    </tr>\n",
              "    <tr>\n",
              "      <th>499</th>\n",
              "      <td>Coronavirus : \"En vaccinant les plus âgés, on ...</td>\n",
              "      <td>0.00000</td>\n",
              "      <td>0.000000</td>\n",
              "    </tr>\n",
              "    <tr>\n",
              "      <th>500</th>\n",
              "      <td>REPORTE DE LUNES 📋😷\\n\\nRosario volvió a regist...</td>\n",
              "      <td>0.00000</td>\n",
              "      <td>0.000000</td>\n",
              "    </tr>\n",
              "  </tbody>\n",
              "</table>\n",
              "<p>501 rows × 3 columns</p>\n",
              "</div>"
            ],
            "text/plain": [
              "                                                  Text  Subjectivity  Polarity\n",
              "0    Oh and during the entire course of all three s...       0.55119  0.142857\n",
              "1    Cafiero \"Ya llevamos 370 mil vacunas aplicadas...       0.00000  0.000000\n",
              "2     Das Coronavirus für das der Impfstoff entwick...       0.00000  0.000000\n",
              "3    Coronavirus Argentina - Nuevos casos diarios c...       0.00000  0.000000\n",
              "4    Olivia Newton-John dice que no recibirá la vac...       0.00000  0.000000\n",
              "..                                                 ...           ...       ...\n",
              "496  The only people who deserve stimulus checks ar...       1.00000  0.000000\n",
              "497  porro Bassetti VaccinoAntiCovid primule Covid_...       0.00000  0.000000\n",
              "498  Wishes for 2021🤩\\n\\n1. Snow (Now) ❄️\\n2. Succe...       0.46250  0.062500\n",
              "499  Coronavirus : \"En vaccinant les plus âgés, on ...       0.00000  0.000000\n",
              "500  REPORTE DE LUNES 📋😷\\n\\nRosario volvió a regist...       0.00000  0.000000\n",
              "\n",
              "[501 rows x 3 columns]"
            ]
          },
          "metadata": {
            "tags": []
          },
          "execution_count": 6
        }
      ]
    },
    {
      "cell_type": "markdown",
      "metadata": {
        "id": "VkjtmpFMZRLC"
      },
      "source": [
        "**Visualizing all the words in the data using the word-cloud plot to see how well the sentiments are distributed. It looks like the word “health” appears a lot in Bill Gates past 100 tweets**"
      ]
    },
    {
      "cell_type": "code",
      "metadata": {
        "id": "7B-QRRoEZx7x",
        "colab": {
          "base_uri": "https://localhost:8080/",
          "height": 248
        },
        "outputId": "0135de29-09da-432e-c77a-2a01f3d8f37b"
      },
      "source": [
        "# word cloud visualization\n",
        "allWords = ' '.join([twts for twts in df['Text']])\n",
        "wordCloud = WordCloud(width=500, height=300, random_state=21, max_font_size=110).generate(allWords)\n",
        " \n",
        " \n",
        "plt.imshow(wordCloud, interpolation=\"bilinear\")\n",
        "plt.axis('off')\n",
        "plt.show()"
      ],
      "execution_count": null,
      "outputs": [
        {
          "output_type": "display_data",
          "data": {
            "image/png": "[encoded data removed]",
            "text/plain": [
              "<Figure size 432x288 with 1 Axes>"
            ]
          },
          "metadata": {
            "tags": [],
            "needs_background": "light"
          }
        }
      ]
    },
    {
      "cell_type": "markdown",
      "metadata": {
        "id": "yAv9LtXCZ1A5"
      },
      "source": [
        "**Create a function to compute the negative (-1), neutral (0), and positive (+1) analysis, and add the information to a new column called Analysis. Then, show the results.**"
      ]
    },
    {
      "cell_type": "code",
      "metadata": {
        "id": "Fjhe6EKnZ9fQ",
        "colab": {
          "base_uri": "https://localhost:8080/",
          "height": 415
        },
        "outputId": "2f312422-f45c-43ff-af77-866b604bfa5d"
      },
      "source": [
        "# Create a function to compute negative (-1), neutral (0) and positive (+1) analysis\n",
        "def getAnalysis(score):\n",
        "    if score < 0:\n",
        "      return 'Negative'\n",
        "    elif score == 0:\n",
        "      return 'Neutral'\n",
        "    else:\n",
        "      return 'Positive'\n",
        "df['Analysis'] = df['Polarity'].apply(getAnalysis)\n",
        "# Show the dataframe\n",
        "df"
      ],
      "execution_count": null,
      "outputs": [
        {
          "output_type": "execute_result",
          "data": {
            "text/html": [
              "<div>\n",
              "<style scoped>\n",
              "    .dataframe tbody tr th:only-of-type {\n",
              "        vertical-align: middle;\n",
              "    }\n",
              "\n",
              "    .dataframe tbody tr th {\n",
              "        vertical-align: top;\n",
              "    }\n",
              "\n",
              "    .dataframe thead th {\n",
              "        text-align: right;\n",
              "    }\n",
              "</style>\n",
              "<table border=\"1\" class=\"dataframe\">\n",
              "  <thead>\n",
              "    <tr style=\"text-align: right;\">\n",
              "      <th></th>\n",
              "      <th>Text</th>\n",
              "      <th>Subjectivity</th>\n",
              "      <th>Polarity</th>\n",
              "      <th>Analysis</th>\n",
              "    </tr>\n",
              "  </thead>\n",
              "  <tbody>\n",
              "    <tr>\n",
              "      <th>0</th>\n",
              "      <td>Oh and during the entire course of all three s...</td>\n",
              "      <td>0.55119</td>\n",
              "      <td>0.142857</td>\n",
              "      <td>Positive</td>\n",
              "    </tr>\n",
              "    <tr>\n",
              "      <th>1</th>\n",
              "      <td>Cafiero \"Ya llevamos 370 mil vacunas aplicadas...</td>\n",
              "      <td>0.00000</td>\n",
              "      <td>0.000000</td>\n",
              "      <td>Neutral</td>\n",
              "    </tr>\n",
              "    <tr>\n",
              "      <th>2</th>\n",
              "      <td>Das Coronavirus für das der Impfstoff entwick...</td>\n",
              "      <td>0.00000</td>\n",
              "      <td>0.000000</td>\n",
              "      <td>Neutral</td>\n",
              "    </tr>\n",
              "    <tr>\n",
              "      <th>3</th>\n",
              "      <td>Coronavirus Argentina - Nuevos casos diarios c...</td>\n",
              "      <td>0.00000</td>\n",
              "      <td>0.000000</td>\n",
              "      <td>Neutral</td>\n",
              "    </tr>\n",
              "    <tr>\n",
              "      <th>4</th>\n",
              "      <td>Olivia Newton-John dice que no recibirá la vac...</td>\n",
              "      <td>0.00000</td>\n",
              "      <td>0.000000</td>\n",
              "      <td>Neutral</td>\n",
              "    </tr>\n",
              "    <tr>\n",
              "      <th>...</th>\n",
              "      <td>...</td>\n",
              "      <td>...</td>\n",
              "      <td>...</td>\n",
              "      <td>...</td>\n",
              "    </tr>\n",
              "    <tr>\n",
              "      <th>496</th>\n",
              "      <td>The only people who deserve stimulus checks ar...</td>\n",
              "      <td>1.00000</td>\n",
              "      <td>0.000000</td>\n",
              "      <td>Neutral</td>\n",
              "    </tr>\n",
              "    <tr>\n",
              "      <th>497</th>\n",
              "      <td>porro Bassetti VaccinoAntiCovid primule Covid_...</td>\n",
              "      <td>0.00000</td>\n",
              "      <td>0.000000</td>\n",
              "      <td>Neutral</td>\n",
              "    </tr>\n",
              "    <tr>\n",
              "      <th>498</th>\n",
              "      <td>Wishes for 2021🤩\\n\\n1. Snow (Now) ❄️\\n2. Succe...</td>\n",
              "      <td>0.46250</td>\n",
              "      <td>0.062500</td>\n",
              "      <td>Positive</td>\n",
              "    </tr>\n",
              "    <tr>\n",
              "      <th>499</th>\n",
              "      <td>Coronavirus : \"En vaccinant les plus âgés, on ...</td>\n",
              "      <td>0.00000</td>\n",
              "      <td>0.000000</td>\n",
              "      <td>Neutral</td>\n",
              "    </tr>\n",
              "    <tr>\n",
              "      <th>500</th>\n",
              "      <td>REPORTE DE LUNES 📋😷\\n\\nRosario volvió a regist...</td>\n",
              "      <td>0.00000</td>\n",
              "      <td>0.000000</td>\n",
              "      <td>Neutral</td>\n",
              "    </tr>\n",
              "  </tbody>\n",
              "</table>\n",
              "<p>501 rows × 4 columns</p>\n",
              "</div>"
            ],
            "text/plain": [
              "                                                  Text  ...  Analysis\n",
              "0    Oh and during the entire course of all three s...  ...  Positive\n",
              "1    Cafiero \"Ya llevamos 370 mil vacunas aplicadas...  ...   Neutral\n",
              "2     Das Coronavirus für das der Impfstoff entwick...  ...   Neutral\n",
              "3    Coronavirus Argentina - Nuevos casos diarios c...  ...   Neutral\n",
              "4    Olivia Newton-John dice que no recibirá la vac...  ...   Neutral\n",
              "..                                                 ...  ...       ...\n",
              "496  The only people who deserve stimulus checks ar...  ...   Neutral\n",
              "497  porro Bassetti VaccinoAntiCovid primule Covid_...  ...   Neutral\n",
              "498  Wishes for 2021🤩\\n\\n1. Snow (Now) ❄️\\n2. Succe...  ...  Positive\n",
              "499  Coronavirus : \"En vaccinant les plus âgés, on ...  ...   Neutral\n",
              "500  REPORTE DE LUNES 📋😷\\n\\nRosario volvió a regist...  ...   Neutral\n",
              "\n",
              "[501 rows x 4 columns]"
            ]
          },
          "metadata": {
            "tags": []
          },
          "execution_count": 8
        }
      ]
    },
    {
      "cell_type": "markdown",
      "metadata": {
        "id": "pqE_THWIaCbR"
      },
      "source": [
        "**Print the positive tweets in ascending order. The most positive tweet is the #1 tweet**"
      ]
    },
    {
      "cell_type": "code",
      "metadata": {
        "id": "uwQ9R8yOaORx",
        "colab": {
          "base_uri": "https://localhost:8080/"
        },
        "outputId": "8503ddbb-7cd1-4f1b-dd83-590443b8d722"
      },
      "source": [
        "# Printing positive tweets \n",
        "print('Printing positive tweets:\\n')\n",
        "j=1\n",
        "sortedDF = df.sort_values(by=['Polarity']) #Sort the tweets\n",
        "for i in range(0, sortedDF.shape[0] ):\n",
        "  if( sortedDF['Analysis'][i] == 'Positive'):\n",
        "    print(str(j) + ') '+ sortedDF['Text'][i])\n",
        "    print()\n",
        "    j= j+1"
      ],
      "execution_count": null,
      "outputs": [
        {
          "output_type": "stream",
          "text": [
            "Printing positive tweets:\n",
            "\n",
            "1) Oh and during the entire course of all three spots on the radio, constant reminders such as reminding us about the feeling of isolation, unemployment, loneliness, unable to pay the bills, losing loved ones to coronavirus. I don't think this kind of approach helps much. -_-\n",
            "\n",
            "2) High Street Lincoln coronavirus lock down day twenty-eight Lincoln \n",
            "\n",
            "3) HAPPENING NOW: Our  News team breaks down what you need to know about the coronavirus pandemic. Plus, we have more on the winter storm hitting the Northeast. \n",
            "\n",
            "4) 9 Health Officials In New York Have Resigned Because Of Andrew Cuomo: Report: \n",
            "Nine officials in the New York state department of health have resigned in recent months, during the height of the coronavirus pandemic, over frustrations  andrewcuomo newyork \n",
            "\n",
            "5) Grand Forks County reports one new coronavirus case \n",
            "\n",
            "6) Overnight news: The US has no vaccinated more people (26.5mio) than the total number of cases they have had (26.2mio) coronavirus\n",
            "\n",
            "7) High Street Lincoln coronavirus lock down day twenty-eight Lincoln \n",
            "\n",
            "8) 25,285 new cases and 609 new deaths in Brazil \n",
            "\n",
            "[23:58 GMT] coronavirus CoronaVirusUpdate COVID19 CoronavirusPandemic\n",
            "\n",
            "9) \"ＳＵＲＶＩＶＥ\" \n",
            "\n",
            "\n",
            "\n",
            "coronavirus covid19 pandemic survive survival surviving \n",
            "tshirt valentines ValentinesDay heart love\n",
            "\n",
            "redbubble  \n",
            "\n",
            "10) King County reported 367 new coronavirus cases on Monday, bringing the total to 77,017, along with 28 new hospitalizations.\n",
            "\n",
            "The death toll stands at 1,264.  \n",
            "\n",
            "11) Whopping 8 people test positive for coronavirus today \n",
            "\n",
            "12) Coronavirus live news: EU tightens rules for foreign visitors; first Covid vaccines arrive in South Africa \n",
            "\n",
            "13)  Wasn't the Corona virus named after you Ronna? Conspiracies are us. You're welcome.\n",
            "\n",
            "14) Curious about the new variants of the coronavirus? \n",
            "\n",
            "Check out this interview with ‘s Dr Ewan Harrison, where  is leading the important work of genome sequencing in the fight against Covid19.\n",
            "\n",
            "Watch it here -  \n",
            "\n",
            "15) Coronavirus: Boy, 9, dies within 24 hours of positive test \n",
            "\n",
            "16) Escola particular de Campinas tem surto de coronavírus e suspende aulas presenciais | Campinas e Região | G1 \n",
            "\n",
            "17) @____callmeari 12785   Coronavirus strains have been known for years, it’s just this strain SARS-COV 2 is a lot more infectious and deadly. Vaccine development and research was started after SARS-COV in 2003, scientists already had the pre requisite knowledge of coronaviruses. \n",
            "\n",
            "18) I plan to apply for a new job soon, I miss the bobux days when I could buy myself 10k bobux on a weekly basis. But before I can do that I need that vaccine first in order to protect myself from the coronavirus!\n",
            "\n",
            "19)   astronomy religious SiguemeYTeSigo mondayreport coronavirus Biden Binance  Farmers SASHA quotes MONSTAX Silver gamer lockdown love artwork GME MondayMorning artistsontwitter MondayMotivaton mondaythoughts Master Myanmarcoup money 8\n",
            "\n",
            "20) monday lundi français christian chretien quebec qc mtl montreal coronavirus world love \n",
            "\n",
            "21) It happened on the radio again. No music, first a segment talking about covid related suicides and to call their number for help, then the next one was substance abuse from coronavirus which was then followed up with domestic physical abuse brought on by coronavirus.\n",
            "\n",
            "22) Doctors just found an even scarier new coronavirus infection \n",
            "\n",
            "23) Why These 3 Locales Are Smart Cities to Watch business technology COVID19 coronavirus seattle news 100daysofcode youtube devops code cdwsocial  \n",
            "\n",
            "24) In the news: WHO Chief: Global Coronavirus Cases Drop for Third Straight Week | Voice of America - English  coronavirus COVID19 2019ncov\n",
            "\n",
            "25) In the news: Three UK variant coronavirus cases confirmed in Iowa  coronavirus COVID19 2019ncov\n",
            "\n",
            "26)  Is that why so many older white women have been sleeping with me?! They told me my cum was a cure for Corona Virus. I feel used...\n",
            "\n",
            "27) Coronavirus deaths top more than 441K in the US as variant and vaccine distribution raises concern \n",
            "\n",
            "28) Coronavirus latest: Australian start-up wins US contract for home Covid tests \n",
            "\n",
            "29) Joe Biden cured coronavirus in like a week. Can’t wait for this hot boy summer coming up\n",
            "\n",
            "30) Egypt’s Health Ministry: 541 coronavirus new cases, 44 COVID19 fatalities and 471 fully recovered... via @24liveblog \n",
            "\n",
            "31) Doctors just found an even scarier new coronavirus infection  \n",
            "\n",
            "2 different strains at once found in Patients !\n",
            "\n",
            "32) Immuni COVID19italia COVID19 coronavirus \n",
            "This page was last edited on 31 January 2021, at 09:09 (UTC).\n",
            "Severe acute respiratory syndrome coronavirus 2\n",
            "\n",
            "\n",
            "33) Dr.Rezaie Cedars-Sinai MAST Lab researching Healight™ “Based on our findings we believe this therapeutic approach has the potential to significantly impact the high morbidity and mortality of coronavirus-infected patients and patients infected with other respiratory pathogens.\" \n",
            "\n",
            "34) Moving forward, the further reopening of the economy may lead to a further pick up in manufacturing activities.\n",
            "\n",
            "However, risk factors include the new coronavirus strains that are more contagious that could slow down economic recovery prospects\n",
            "\n",
            "\n",
            "\n",
            "35) BBCNews Reuters Corriere\n",
            "Forbes Echinanews TheSun \n",
            "This page was last edited on 31 January 2021, at 09:09 (UTC).\n",
            "Severe acute respiratory syndrome coronavirus 2\n",
            "\n",
            "\n",
            "36)   Let's talk about OSHA\n",
            "\n",
            "25+ years ago I worked in Indoor Air Quality (IAQ) &amp; workplace safety\n",
            "\n",
            "With that in mind, I look at the airborne coronavirus as an IAQ issue, not merely an infectious disease issue. Hazardous microscopic particles in the air? Treat it like asbestos.\n",
            "\n",
            "1/\n",
            "\n",
            "37) qatarnews TheKoreaHerald SkyTG24 StateHouseKenya\n",
            "le_Parisien SputnikMundo\n",
            "WashingtonPost \n",
            "This page was last edited on 31 January 2021, at 09:09 (UTC).\n",
            "Severe acute respiratory syndrome coronavirus 2\n",
            "\n",
            "\n",
            "38) Galileo once observed that nature is written in math. Biology might be written in words. NLP algorithms are now able to generate protein sequences and predict virus mutations, including key changes that help the coronavirus evade the immune system.\n",
            "\n",
            "39) 1 Call lean all Llover to try to get the coronavirus vaccination so far the book for two months now opening\n",
            "\n",
            "40) “The spread of airborne droplets from the mouth and nose of an infected person is one of the main ways the coronavirus is transmitted”. \n",
            "\n",
            "41) New clinical trials raise fears the coronavirus is learning how to resist vaccines.  We waited too long, too much infection so it has mutated and we don't know how many variants of the virus exists in our country.   Thanks T**** \n",
            "\n",
            "42) Dems Move to Pass $1.9 Trillion Bill Without GOP Support: Democrat congressional leaders took the first step toward passing President Joe Biden's $1.9 trillion so-called coronavirus relief bill with or without Republican support, submitting a joint…  \n",
            "\n",
            "43) Grateful to work for a company that truly commits to making a difference in communities disproportionately impacted by the coronavirus. Learn more about the $13.1M+ investment by BofA supporting Native American populations in several states here:  \n",
            "\n",
            "44) The coronavirus effect on global economic sentiment  via \n",
            "\n",
            "45) At least learn the differences and if they can help you on your financial journey!\n",
            "\n",
            "\n",
            "thefinancialfreedomfamily financialblueprintacademy education vaccine coronavirus stimuluscheck taxdeferral taxes blackhistory valentines love \n",
            "\n",
            "46) What coronavirus business support is available from the government? - White Rose Accountants \n",
            "\n",
            "47) Ontario has identified first case of SouthAfrican coronavirus variant, one with immunity-evading properties, even as the extra-contagious U.K variant showed signs of spreading rapidly in parts of the province. covid pandemic  \n",
            "\n",
            "\n",
            "48)  Remember Coronavirus briefings? Trump said, \"And then I see the disinfectant where it knocks it out in a minute. One minute. And is there a way we can do something like that, by injection inside or almost a cleaning? So it'd be interesting to check that,\" on April 23, 2020.\n",
            "\n",
            "49) talking about inequality \n",
            "\n",
            "More than 90 million people around the world have received a coronavirus vaccine outside of clinical trials — but only 25 people total have in all of sub-Saharan Africa, a region of about 1bn. covid19 \n",
            "\n",
            "‘No one is safe until everyone is safe’\n",
            "\n",
            "50) 66  Bcos it’s never been about an immaterial coronavirus TheGreatReset is proceeding excellently\n",
            "\n",
            "51) Nigeria Records 676 New Cases of Coronavirus, Total Now 131,918 \n",
            "Covid19 Nigeria NCDC\n",
            " via \n",
            "\n",
            "52) Brazil patients 'test positive for TWO coronavirus variants at the same time' in world-first Covid double infection\n",
            "Researchers at Feevale University made the discovery after swabbing 90 infected people in Rio Grande do Sul, sthn Brazil \n",
            "\n",
            "53)   You should wear 6 or 7 masks  \n",
            "\n",
            "2 to protect people from coronavirus. And 4 or 5 to protect people from the total nonsensical bullshit that flies out of your mouth on a regular basis. \n",
            "\n",
            "Thanks.\n",
            "\n",
            "54) Vencí al coronavirus :)\n",
            "\n",
            "55) For those who didn't catch our show this Sunday. Please make sure you sending thoughts,  prayers and well wishes to our brother 86 as he is currently battling Coronavirus\n",
            "\n",
            "56) New CDC data shows stark disparities in coronavirus shots\n",
            "\n",
            "Is someone really surprised?  \n",
            "\n",
            "57) Investigan posible variante mexicana del coronavirus SARS-CoV-2\n",
            "\n",
            "El director general del Centro Nacional de Programas Preventivos y Control de Enfermedades, Ruy López Ridaura, informó que se investiga si estas mutaciones tienen importancia epidemiológica\n",
            "\n",
            " \n",
            "\n",
            "58) The Oklahoma State Department of Health’s data on its website showed Monday the state’s total number of coronavirus cases since the pandemic began now sets at 390,868 with 358,040 listed as recovered, 29,264 active and 3,564 deceased. \n",
            "\n",
            "FULL STORY:  \n",
            "\n",
            "59)       \n",
            "This page was last edited on 31 January 2021, at 09:09 (UTC).\n",
            "Severe acute respiratory syndrome coronavirus 2\n",
            "\n",
            "\n",
            "60) IRELAND\n",
            "\n",
            "Ireland has reported 1,062 new confirmed cases of coronavirus COVID-19 and 10 new deaths.  Data last Updated 01/02/2021\n",
            "\n",
            "coronavirus disease 2019 (COVID-19) COVID19 Ireland \n",
            "\n",
            "61)   24  \n",
            "_Parisien \n",
            "\n",
            "This page was last edited on 31 January 2021, at 09:09 (UTC).\n",
            "Severe acute respiratory syndrome coronavirus 2\n",
            "\n",
            "\n",
            "62) Schumer vows Senate will take up 'bold' coronavirus bill, rejecting GOP offer  SmartNews\n",
            "\n",
            "63) Confirmaron 195 nuevos casos de coronavirus y 228 recuperados en General Pueyrredon\n",
            " \n",
            "\n",
            "64) Chief  asked why still “no opposition” for 2022\n",
            "what to worry, no serious opposition against C19\n",
            "Dutz anti-coronavirus program fallen short big objectives &amp; repeatedly falters in its decisions &amp; expectations.\n",
            "\n",
            "1/\n",
            "\n",
            "65) Python javascript NodeJS   Cybersecurity\n",
            "7ala1 django 100DaysOfCode js\n",
            "linux mac osx \n",
            "This page was last edited on 31 January 2021, at 09:09 (UTC).\n",
            "Severe acute respiratory syndrome coronavirus 2\n",
            "\n",
            "\n",
            "66) Schumer vows Senate will take up 'bold' coronavirus bill, rejecting GOP offer \n",
            "\n",
            "67) Was Sundance a \"First Petri Dish\" of Coronavirus in the States?  via \n",
            "\n",
            "68) Was coronavirus at Sundance? The  epidemiologist didn't think it was important to follow up on? Does twittermed agree?  via  \n",
            "\n",
            "69)  Much Respect: Trump, Xi, and the Coronavirus (A Love Story) \n",
            "\n",
            "70) Super raid mientras debatimos sobre el amor en tiempos de coronavirus 😅\n",
            "¡Mil gracias _Zeta!\n",
            "\n",
            "\n",
            "71) State and Local Courts Embrace Video Magistration Amid the Pandemic 100daysofcode twitch youtube btc tacoma bitcoin xrp business tech COVID19 live coronavirus news video ripple cdwsocial  \n",
            "\n",
            "72) Coronavirus latest: Australian start-up wins US contract for home Covid tests \n",
            "\n",
            "73) 7 die at Spanish care home after getting Pfizer Covid-19 jab as ALL residents test positive for virus, second doses still to come coronavirus COVID19 VUI20201201 pandemic HealthEmergency pfizer BioNTech vaccine spain \n",
            "\n",
            "74) The deadliest month yet of the coronavirus outbreak in the U.S. drew to a close with certain signs of progress: COVID-19 cases and hospitalizations are plummeting, while vaccinations are picking up speed. \n",
            "\n",
            "75) American people needs a bill now. Republicans had plenty of time from May 2020 to now to propose a relief bill. Their stalling time is up. It's decision time now.\n",
            "\n",
            "Schumer vows Senate will take up 'bold' coronavirus bill, rejecting GOP offer. \n",
            "\n",
            "76)  We don’t need a minimum wage hike for a coronavirus relief bill. That’s some thing that should be covered separately and another bill. It just throws more confusion and objection into an extremely urgent process\n",
            "\n",
            "77) Coronavirus in IRC, Feb. 1 update, read more here   VeroNews\n",
            "\n",
            "78)  ¿Por qué no dejamos un poquito a Madrid? Ya sabemos que queda muy cool políticamente que si Madrid y Ayuso... Pero a ver si cogemos los datos en la mano, con evolución y habitantes.\n",
            "Esto es de hoy. Hay 7 por delante, eh... Ya cansa.\n",
            "COVID19\n",
            "Coronavirus\n",
            " \n",
            "\n",
            "79) Massachusetts surpasses 500,000 confirmed coronavirus cases, a year after first case \n",
            "\n",
            "80) he didn’t like the plan’s emphasis on vaccinating people from the hardest hit communities first. Every single person I talked to said that his coded speech meant the plan wasn’t “white enough”\n",
            "\n",
            "Today’s report:\n",
            "\n",
            "1,427 additional positive cases of 2019 novel coronavirus (COVID-19)\n",
            "\n",
            "81) More Americans have received at least one dose of a Covid-19 vaccine than have tested positive for the coronavirus, an early but hopeful milestone  so great publichealth covid19 vaccinations usa\n",
            "\n",
            "82) Concern is growing about the potential long-term impact of the coronavirus pandemic on prisoners in England and Wales: Four justice system inspectorates said some inmates were being held \"in conditions which effectively amounted to solitary confinement\" \n",
            "\n",
            "83) Important updates in the Pregnancy &amp; Vaccination section this week!  has updated their guidance on vaccination &amp; infertility risk. Plus we excerpt the updated  guidance   hcsm SARSCoV2 coronavirus vaccineswork obstetrics\n",
            "\n",
            "84) AIs that read sentences are now catching coronavirus mutations. \n",
            "Good article about using AI to interpret and predict new strains of coronavirus by . \n",
            "\n",
            "\n",
            "85) Germany's FMC sees high coronavirus mortality among dialysis patients weighing on earnings $FMC \n",
            "\n",
            "86) Another Year (Or More) Of Covid? -   \n",
            "\n",
            "Mutated versions of the coronavirus threaten to prolong the pandemic, perhaps for years — killing more people and deepening the global economic crisis in the process.\n",
            "\n",
            "87) WHO Warns against Administering Moderna Coronavirus Vaccine to Pregnant Women\n",
            "HeatMap Column 4&gt;  \n",
            "\n",
            "88) Corona Info for USA:\n",
            "New Cases: 109114\n",
            "Today Recovery: 176862\n",
            "Today Deaths: 1660\n",
            "Total Active Cases: 9856045\n",
            "Total Cases: 26892992\n",
            "Total Recovery: 16582978\n",
            "Total Deaths: 453969\n",
            "Coronavirus  Covid19 Covid_19 SARSCoV2 StaySafe \n",
            "\n",
            "Source: 'CoronaTrackerNepal_bot' Telegram.\n",
            "\n",
            "89)  Make sure Coronavirus Relief package to pass the Congress and Senate. American people need money.      \n",
            "\n",
            "90) I figure Trump and the GOP asshats owe me 1 whole year! I lost 2020 because you shitbirds dropped the ball on the Corona virus. One year shot to hell. You inept GOP leaders let Trump get away with over 400k deaths. \n",
            "GOPComplicitTraitors \n",
            "\n",
            "91) Se propone  , 150 millones de vacunas en 100 días.\n",
            "\n",
            "10 days of struggle: Inside Biden’s early coronavirus vaccine effort \n",
            "\n",
            "92)  You know the coronavirus has also put people making more money out of work\n",
            "\n",
            "93) Spain to investigate border controls for virus mutation countries - The Spanish Government has announced that it is investigating measures to control the arrival of new strains of the coronavirus into the... -  CoronavirusPandemic \n",
            "\n",
            "94) His team is going to the Super Bowl. He’s staying on the coronavirus front lines. QuietHero ⁦⁩ ⁦⁩  \n",
            "\n",
            "95) The real story behind the AstraZeneca-EU row is the thousands more coronavirus deaths it threatens | The Canary \n",
            "\n",
            "96) DIRECT - Coronavirus : la trêve hivernale des expulsions prolongée jusqu'au 1er juin, annonce Emmanuelle Wargon \n",
            "\n",
            "97) Coronavirus: Nigeria reports 676 new as cases worsen in Spain, Turkey  in the last 24 hours - \n",
            "\n",
            "98) Vietnam Tue a.m. reported one new COVID19 community infection. Total 271 locally transmitted cases since third wave hit Jan. 27. Head of Vietnam coronavirus fight DPM Dam said to control this fresh wave by Sunday. Pix on streets of Hanoi \n",
            "\n",
            "99) ...we know about the GOP proposal indicates that it’s grotesquely inadequate for a nation still ravaged by coronavirus pandemic. ...Republicans have forfeited any right to play the bipartisanship card, or even to be afforded any presumption of good faith.\n",
            "\n",
            "\n",
            "100) Schumer vows Senate will take up 'bold' coronavirus bill, rejecting GOP offer SmartNews  \n",
            "\n",
            "101) 25. READ THAT AGAIN. NOT 25 MILLION OR 25,000. JUST 25.\"More than 90 million people around the world have received a coronavirus vaccine outside of clinical trials — but only 25 people total have in all of sub-Saharan Africa, a region of about one billion people.\" via \n",
            "\n",
            "102) Every traveler entering the United States must present a negative Coronavirus test taken within 72 hours prior to their flights. For more information call ALG Lawyers at: 213.384.3300 or access  greencard citizenship techcompany travel uscis \n",
            "\n",
            "103) Coronavirus updates LIVE: Border closures ‘scaring people off’ visiting, experts say \n",
            "\n",
            "104) Coronavirus LIVE as 'all care home residents in England offered vaccine' - Manchester Evening News\n",
            "\n",
            "\n",
            "News UK \n",
            "\n",
            "105) ‘We know this is real’: New clinics for coronavirus long-haulers crop up in U.S.   \n",
            "\n",
            "GlobalEconomics\n",
            "\n",
            "106) Offices are hotspots for coronavirus outbreaks, but workers suffer more than bosses | The Canary \n",
            "\n",
            "107)  _DISREIGN She's still popular in many countries of the world; she just prefers not to be in the media, and to remain discrete. And her new album is coming after the coronavirus, I think :)\n",
            "\n",
            "108) Good sensitivity and ease of use home COVID19 test. \n",
            "\n",
            "Still . . people have put way too much emphasis on testing for coronavirus to prevent spread which is a strategy that has so far been ineffective. \n",
            "\n",
            "\n",
            "\n",
            "109) United States Coronavirus Pandemic Data (Live) - Torangene \n",
            "\n",
            "110) The Department of Health on Monday reported 1,658 additional COVID19 cases, or a total of 527,272 confirmed coronavirus infections in the Philippines. \n",
            "\n",
            "111) Scientists decode how coronavirus quickly damages lung cells \n",
            "\n",
            "112) Many who have received the coronavirus vaccine wonder: What can I safely do?  \n",
            "\n",
            "113)  _Crypto1   Dude it is all fake, a new coronavirus appears about once every 10 years, c19 is related to mers and sars, all of this is why Gates and others have been predicting all of this. Thank God this virus thus far has not been lethal to children, the next one probablywont be so lucky\n",
            "\n",
            "114) I really miss life before coronavirus\n",
            "\n",
            "115) CDC issues guidelines on attending Super Bowl celebrations amid coronavirus pandemic  \n",
            "\n",
            "116) Finance Minister Simon Birmingham says it is “reasonable that ultimate precautions are taken” when a state is dealing with strains of the coronavirus which have elevated infection rates and fatalities across the globe.\n",
            "\n",
            "\n",
            "\n",
            "117) ACOSS is calling on the Morrison Government to make the right and smart decision on JobSeeker.\n",
            "\n",
            "At the National Press Club today, the Prime Minister indicated that the Government would be making a decision on JobSeeker before the Coronavirus Supplement is due to end\n",
            "\n",
            "118) \"Studies in Israel have offered tentative optimism on the effectiveness of vaccines in curbing the coronavirus pandemic, with initial data suggesting even the early stages of inoculation campaigns might have marked decreases in… \n",
            "\n",
            "119) Schumer vows Senate will take up 'bold' coronavirus bill, rejecting GOP offer \n",
            "\n",
            "120) Health and Social Care Secretary's statement on Coronavirus (COVID-19): 1 February 2021 -  Covid19 Covidagenparl Government Iorestoacasa People Vaccinated Vaccine Variant World \n",
            "\n",
            "121) Reports of a condition called “COVID tongue” is just the latest strange side effect of the ongoing mystery of long-lasting coronavirus symptoms. \n",
            "\n",
            "122) California Counties are one of many entities vaccinating in communities. \n",
            "\n",
            "We will continue to share WHAT we know WHEN we know it in order to exit the pandemic as quickly as possible.\n",
            "\n",
            "CSAC CACounties COVID19 Coronavirus COVID19Vaccine CoronavirusVaccine PublicHealth \n",
            "\n",
            "123) Safety comes first, first consider that those suffering coronavirus symptoms are especially careful with rinsing fresh produce before cutting or cleaning. Find out more at .\n",
            "\n",
            "124) COVID-19’s strangest symptom has opened new doors to understanding our most neglected sense.   COVID19 Coronavirus \n",
            "\n",
            "125) New Biosensors Quickly Detect COVID-19 Coronavirus Proteins and Antibodies  COVID19 biotechnology technology biosensors healthcare HealthTech \n",
            "\n",
            "126) For Austin's 44th annual 10k you'll really be able to run like no one's watching. Because, no really, no one will be watching 👀\n",
            "\n",
            "The April race will be held virtually this year due to the coronavirus pandemic \n",
            "\n",
            "127) Quién iba a decirnos que el coronavirus traería nuevas formas de negocio. En la ciudad japonesa de Hakodate, el Juden Highball es un bar diseñado para beber y comer solo. Frente a los problemas de la distancia social, el placer de DisfrutarEnSolitario. Restauración Marketing \n",
            "\n",
            "128) Wishes for 2021🤩\n",
            "\n",
            "1. Snow (Now) ❄️\n",
            "2. Success (Everyday) ✅\n",
            "3. Knowledge (Everyday) 🧠\n",
            "4. End of Coronavirus (Now) 😷\n",
            "5. Positivity (Everyday) 😃\n",
            "6. Strength (Everyday) 💪\n",
            "7. Happiness (Everyday) 😀\n",
            "8. Summer to HURRY (Now) 🌞\n",
            "9. Eat  More 🐔 \n",
            "10. Meet Norah😂📰\n",
            "\n"
          ],
          "name": "stdout"
        }
      ]
    },
    {
      "cell_type": "markdown",
      "metadata": {
        "id": "vpWpg4XeaUQB"
      },
      "source": [
        "**Print the negative tweets in descending order. The most negative tweet is the #1 tweet.**"
      ]
    },
    {
      "cell_type": "code",
      "metadata": {
        "id": "RhniOlbnaZm5",
        "colab": {
          "base_uri": "https://localhost:8080/"
        },
        "outputId": "3fe3ebc4-a11f-48aa-8f55-f0caa4b91604"
      },
      "source": [
        "# Printing negative tweets  \n",
        "print('Printing negative tweets:\\n')\n",
        "j=1\n",
        "sortedDF = df.sort_values(by=['Polarity'],ascending=False) #Sort the tweets\n",
        "for i in range(0, sortedDF.shape[0] ):\n",
        "  if( sortedDF['Analysis'][i] == 'Negative'):\n",
        "    print(str(j) + ') '+sortedDF['Text'][i])\n",
        "    print()\n",
        "    j=j+1"
      ],
      "execution_count": null,
      "outputs": [
        {
          "output_type": "stream",
          "text": [
            "Printing negative tweets:\n",
            "\n",
            "1) HEADLINE: The gravedigger’s truth: Hidden coronavirus deaths :  Scrummyninja vegaslocals bashninjas vegas vegasnews lasvegas summerlin hendersonlv lasvegasstrip vegasstrong unlv vegaslocalnews\n",
            "\n",
            "2) China repurposes AbbVie HIV drug as Big Pharma rallies to combat deadly coronavirus \n",
            "\n",
            "3) 44 novas mortes pelo coronavírus no Brasil :(\n",
            "Total de mortes:225143 💀\n",
            "Novos casos: 694\n",
            "Total de casos: 9230016 😷\n",
            "\n",
            "4) There are now 3.835.783 total coronavirus (COVID-19) infections in United Kingdom. Within the infected people 106.564 have died, 1.961.247 are still sick and 1.767.972 people have recovered. \n",
            "\n",
            "5) Cuomo is not the only politician guilty of this. Almost every country, state, province, or city that relied on lockdowns has ignored decades of public health &amp; immunology/virology data. We need accountability \n",
            "\n",
            "COVID19 coronavirus lockdown Canada Ontario cdnpoli onpoli \n",
            "\n",
            "6) DHS Is Giving Illegal Immigrants 'Equal Access' to Wuhan Coronavirus Vaccines \n",
            "\n",
            "7)  51  “Tapers off”\n",
            "When should we fear the worst of the ever-nimble “coronavirus/flu season”... November, December, January, March, April, May?\n",
            "All of the above!\n",
            "\n",
            "8)  I did not think you were allowed in to see people with Corona virus.  I am confused.\n",
            "\n",
            "9) The camp of Vice President Leni Robredo on Monday called on the Duterte administration not to be deaf and blind to the sorry state of the Filipino people who lost their jobs and livelihood opportunities due to the coronavirus disease 2019 (COVID-19)-------\n",
            " \n",
            "\n",
            "10) At midnight with Daisy - The UK comes down hard on the South African variant of coronavirus, after cases with no links to travel were detected.\n",
            "\n",
            "11) No reports of unexplained community cases of coronavirus for 17 consecutive days..17!! \n",
            "\n",
            "12) The  has yet to prove that the human body is incapable of fighting off an unknown pathogen such as the coronavirus and it is my understanding that Senator Rand Paul recovered from the virus without the need for a vaccine. 1/2\n",
            "\n",
            "13) Just imagine if we had taken the same approach as New Zealand 11 months ago? No new COVID 19 cases today!!!! leadership coronavirus notpolitical cdnpoli\n",
            "\n",
            "14) I regularly hear from residents of my district in southwest Seattle who are currently eligible for vaccination and desperate to receive the vaccination, especially those with additional vulnerabilities who are all but housebound due to their fear of contracting coronavirus. \n",
            "\n",
            "15) 85898037 So, only areas densely populated are stricken with alleged corona virus? Or sparsely populated?\n",
            "Or, just the areas not surrounded by ocean are afflicted with this thing?🤔\n",
            "\n",
            "16) 15  Thanks ! That means a lot.\n",
            "\n",
            "15, I’ll be participating in a panel Q&amp;A session with the All Party Parliamentary Group on Coronavirus .\n",
            "\n",
            "A little outside my usual comfort zone, but I’ll give it a try.\n",
            "\n",
            "17) Victor Davis Hanson, who has advised Americans in columns &amp; articles in the National Review &amp; other journals, that the coronavirus should be treated like an enemy in wartime &amp;battled to submission like Nazism.\n",
            "\n",
            "3/\n",
            "\n",
            "18) Anti-vaccine protesters temporarily shut down major coronavirus vaccine site at Dodger Stadium in Los Angeles \n",
            "\n",
            "19) So am I wrong, the common cold is a coronavirus? Symptoms of COVID-19 mimic a cold unless there are underlying circumstances. In that case, there is a chance it could turn into something worse or possibly death. 99.6% recovery rate. Or am I missing something?\n",
            "\n",
            "20) Idk if it’s allergies or if its coronavirus but i feel like shit 🥲\n",
            "\n",
            "21) However other scientific intelligence suggested it was associated to SARS but with differences.\n",
            "\n",
            "The Head of the Chinese CDC, Gao, told and American colleague that it was a new coronavirus but not easily transmissible.   \n",
            "\n",
            "But information was out and he wasn’t believed\n",
            "\n",
            "22) How Britain Sleepwalked Into Disaster – Byline Times  The UK’s disproportionate death toll is the product of a Government that repeatedly downplayed the Coronavirus, confused its messaging and defied scientific advice.\n",
            "\n",
            "23) Devils Lose Week Due to COVID\n",
            "\n",
            "Scott shares the NJDevils announcement of games being postponed through February 6th due to coronavirus outbreak. \n",
            "\n",
            "24) Leí \"nueva cepa mexicana\" y me imaginé un coronavirus con bigote, sombrero y tacos. Soy subnormal.\n",
            "\n",
            "25) The President met late Monday with a group of GOP senators who have proposed a slimmed down $618 billion coronavirus aid package — a fraction of the $1.9 trillion he is seeking — as congressional Democrats vowed to push ahead with or without GOP support.\n",
            "\n",
            "\n",
            "\n",
            "26)   _Jordan I think this also needs to be investigated 442,962 DEAD -they didn't tell people the truth about the coronavirus from the beginning.\n",
            "\n",
            "27) At the mall without a mask on? Fill in a spot in the \"B\" column. Mask hanging off one ear? \"I\" column. Nose exposed? \"N\" column. Nose AND mouth exposed? \"G“ column. Too close to people? \"O\" column. Congratulations, your coronavirus B-I-N-G-O card is done, duh! clueless covidiot\n",
            "\n",
            "28) March 2020: This pandemic will be over by my 21st birthday in May\n",
            "May 2020: It will be over by the start of the school year\n",
            "September 2020: It will be over by 2021\n",
            "2021: Quarantine anniversary comin soon!!! Coronavirus is forever! Americans are selfish and stupid 🤡🤡\n",
            "\n",
            "29) GMB's Alex Beresford forced to self-isolate with son as his ex wife has coronavirus\n",
            " \n",
            "\n",
            "30) Economist Paul Krugman explains why Republican coronavirus relief proposals are 'insultingly inadequate' \n",
            "\n",
            "31) Economist Paul Krugman explains why Republican coronavirus relief proposals are 'insultingly inadequate' \n",
            "\n",
            "32) Economist Paul Krugman explains why Republican coronavirus relief proposals are 'insultingly inadequate'\n",
            "\n",
            "\n",
            "33) May Yang is a Hmong shaman from Merced, California who many people from the Hmong community have turned to  for help when they’re sick or in need of difficult situations, which have become common during the coronavirus pandemic. Read her story now! \n",
            "\n",
            "34) Unfortunately  Governor  is a [former] Minister... Places of worship have proven to be hot spots for coronavirus spread... The religious believe they’re saved by the blood of Christ; not sure they realize they don’t have to be dead for that... \n",
            "\n",
            "35) ‘Selfless’ London NHS worker dies with coronavirus aged 52  via \n",
            "\n",
            "36) Brutal 🙁\n",
            "\n",
            "“Somehow the coronavirus is rampaging through a city that was supposedly immune”\n",
            "\n",
            " \n",
            "\n",
            "37) 235  The vaccine prevents you from getting Coronavirus Disease 2019 (COVID) but it is unknown if if prevents infection of the virus (Sars-Cov-2) so it is possible that a vaccinated person could asymptomatically spread the virus. Hope that helps.\n",
            "\n",
            "38) ‘Never ending’: Expert%27s shocking coronavirus prediction  via 7News \n",
            "\n",
            "Vaccines will not help much considering the health of individuals are bad with all the crap that that ate to live!\n",
            "\n",
            "39) Coronavirus: Single-shot vaccine’s other advantages may soon outweigh lower efficacy, Fauci says \n",
            "\n",
            "40) a year ago I was on a cruise blissfully not worried about this “coronavirus” thing the news was was talking about. \n",
            "\n",
            "bless past me’s heart. sigh.\n",
            "\n",
            "41) Coronavirus: UK must 'come down hard' on South African variant - BBC News\n",
            "\n",
            "\n",
            "News UK \n",
            "\n",
            "42) El centro que administra las vacunas contra el coronavirus en el Hard Rock Stadium de Miami-Dade, informó que comenzaron a colocar la segunda dosis aunque la persona no tenga cita. Revise lo que debe hacer. \n",
            "\n"
          ],
          "name": "stdout"
        }
      ]
    },
    {
      "cell_type": "markdown",
      "metadata": {
        "id": "5T9fRDeMacjJ"
      },
      "source": [
        "**Plot the polarity and subjectivity as a scatter plot. It looks like the majority of the tweets are positive, as many of the points are on the right side of the polarity at value 0.00.**"
      ]
    },
    {
      "cell_type": "code",
      "metadata": {
        "id": "k4Vveryqan_D",
        "colab": {
          "base_uri": "https://localhost:8080/",
          "height": 405
        },
        "outputId": "288fb71a-7dd9-4f51-80bd-12d4e193db5b"
      },
      "source": [
        "# Plotting \n",
        "plt.figure(figsize=(8,6)) \n",
        "for i in range(0, df.shape[0]):\n",
        "  plt.scatter(df[\"Polarity\"][i], df[\"Subjectivity\"][i], color='Blue') \n",
        "# plt.scatter(x,y,color)   \n",
        "plt.title('Sentiment Analysis') \n",
        "plt.xlabel('Polarity') \n",
        "plt.ylabel('Subjectivity') \n",
        "plt.show()"
      ],
      "execution_count": null,
      "outputs": [
        {
          "output_type": "display_data",
          "data": {
            "image/png": "[encoded data removed]",
            "text/plain": [
              "<Figure size 576x432 with 1 Axes>"
            ]
          },
          "metadata": {
            "tags": [],
            "needs_background": "light"
          }
        }
      ]
    },
    {
      "cell_type": "markdown",
      "metadata": {
        "id": "FsYKfdp5atts"
      },
      "source": [
        "**Print the percentage of positive tweets. About 81/100 of the tweets are considered positive tweets**"
      ]
    },
    {
      "cell_type": "code",
      "metadata": {
        "id": "BtnJF8OZazzp",
        "colab": {
          "base_uri": "https://localhost:8080/"
        },
        "outputId": "2b5db0d1-e173-4e11-f3d1-13034a164bcd"
      },
      "source": [
        "# Print the percentage of positive tweets\n",
        "ptweets = df[df.Analysis == 'Positive']\n",
        "ptweets = ptweets['Text']\n",
        "ptweets\n",
        "\n",
        "round( (ptweets.shape[0] / df.shape[0]) * 100 , 1)"
      ],
      "execution_count": null,
      "outputs": [
        {
          "output_type": "execute_result",
          "data": {
            "text/plain": [
              "25.5"
            ]
          },
          "metadata": {
            "tags": []
          },
          "execution_count": 12
        }
      ]
    },
    {
      "cell_type": "markdown",
      "metadata": {
        "id": "TYVJBW23a4wx"
      },
      "source": [
        "**Print the percentage of negative tweets. About 9/100 tweets are considered negative tweets**"
      ]
    },
    {
      "cell_type": "code",
      "metadata": {
        "id": "C-WzoS0pa6XB",
        "colab": {
          "base_uri": "https://localhost:8080/"
        },
        "outputId": "f40150bb-2d8c-4dc4-c4bd-5efcc0206130"
      },
      "source": [
        "# Print the percentage of negative tweets\n",
        "ntweets = df[df.Analysis == 'Negative']\n",
        "ntweets = ntweets['Text']\n",
        "ntweets\n",
        "\n",
        "round( (ntweets.shape[0] / df.shape[0]) * 100, 1)"
      ],
      "execution_count": null,
      "outputs": [
        {
          "output_type": "execute_result",
          "data": {
            "text/plain": [
              "8.4"
            ]
          },
          "metadata": {
            "tags": []
          },
          "execution_count": 13
        }
      ]
    },
    {
      "cell_type": "markdown",
      "metadata": {
        "id": "uOJBBo-va9P4"
      },
      "source": [
        "**Show the value counts. Now we can see 81 tweets are positive, 10 are neutral, and 9 are negative**"
      ]
    },
    {
      "cell_type": "code",
      "metadata": {
        "id": "AVacNceZbGyg",
        "colab": {
          "base_uri": "https://localhost:8080/"
        },
        "outputId": "205ea27e-b2ae-410f-99b7-c7cb0925c7d8"
      },
      "source": [
        "# Show the value counts\n",
        "df['Analysis'].value_counts()"
      ],
      "execution_count": null,
      "outputs": [
        {
          "output_type": "execute_result",
          "data": {
            "text/plain": [
              "Neutral     331\n",
              "Positive    128\n",
              "Negative     42\n",
              "Name: Analysis, dtype: int64"
            ]
          },
          "metadata": {
            "tags": []
          },
          "execution_count": 14
        }
      ]
    },
    {
      "cell_type": "markdown",
      "metadata": {
        "id": "QNbhVQNZbIyI"
      },
      "source": [
        "**Visually show the value counts**"
      ]
    },
    {
      "cell_type": "code",
      "metadata": {
        "id": "VerNBS_5bMD5",
        "colab": {
          "base_uri": "https://localhost:8080/",
          "height": 331
        },
        "outputId": "f02595b2-9bc4-4d7f-d811-c0e674b74c8f"
      },
      "source": [
        "# Plotting and visualizing the counts\n",
        "plt.title('Sentiment Analysis')\n",
        "plt.xlabel('Sentiment')\n",
        "plt.ylabel('Counts')\n",
        "df['Analysis'].value_counts().plot(kind = 'bar')\n",
        "plt.show()"
      ],
      "execution_count": null,
      "outputs": [
        {
          "output_type": "display_data",
          "data": {
            "image/png": "[encoded data removed]",
            "text/plain": [
              "<Figure size 432x288 with 1 Axes>"
            ]
          },
          "metadata": {
            "tags": [],
            "needs_background": "light"
          }
        }
      ]
    }
  ]
}