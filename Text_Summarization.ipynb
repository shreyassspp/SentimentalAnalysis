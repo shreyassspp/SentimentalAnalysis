{
  "nbformat": 4,
  "nbformat_minor": 5,
  "metadata": {
    "kernelspec": {
      "display_name": "Python 3",
      "language": "python",
      "name": "python3"
    },
    "language_info": {
      "codemirror_mode": {
        "name": "ipython",
        "version": 3
      },
      "file_extension": ".py",
      "mimetype": "text/x-python",
      "name": "python",
      "nbconvert_exporter": "python",
      "pygments_lexer": "ipython3",
      "version": "3.8.5"
    },
    "colab": {
      "name": "Text Summarization.ipynb",
      "provenance": [],
      "collapsed_sections": []
    }
  },
  "cells": [
    {
      "cell_type": "markdown",
      "metadata": {
        "id": "RkVAXuUXizyU"
      },
      "source": [
        "**Importing libraries**\n",
        "\n"
      ],
      "id": "RkVAXuUXizyU"
    },
    {
      "cell_type": "markdown",
      "metadata": {
        "id": "2_LW1gUf1fDe"
      },
      "source": [
        ""
      ],
      "id": "2_LW1gUf1fDe"
    },
    {
      "cell_type": "code",
      "metadata": {
        "id": "0bp_v0u5VpLA"
      },
      "source": [
        "!pip install newsapi-python\n",
        "from newsapi import NewsApiClient\n",
        "# Init\n",
        "newsapi = NewsApiClient(api_key='806638da1edd45aab2f9ad3bad488802')\n",
        "query=input(\"Enter the search query: \")\n",
        "start=input(\"Enter the start date in YYYY-MM-DD Format: \")\n",
        "ending=input(\"Enter the ending date in YYYY-MM-DD Format: \")\n",
        "# /v2/top-headlines\n",
        "#top_headlines = newsapi.get_top_headlines(q=query,\n",
        "                                          #sources='bbc-news,the-verge',\n",
        "                                          #category='business',\n",
        "                                          #language='en')\n",
        "                                          #country='us')\n",
        "                                          # /v2/sources\n",
        "sources1 = newsapi.get_sources()\n",
        "#print(sources1)\n",
        "\n",
        "# /v2/everything\n",
        "all_articles = newsapi.get_everything(q=query,\n",
        "                                      sources='bbc-news,the-verge',\n",
        "                                      domains='bbc.co.uk,techcrunch.com',\n",
        "                                      from_param=start,\n",
        "                                      to=ending,\n",
        "                                      language='en',\n",
        "                                      sort_by='relevancy',\n",
        "                                      page=2)\n",
        "\n",
        "links=[]\n",
        "for i in all_articles['articles']:\n",
        "  links.append(i['url'])\n",
        "\n",
       
        "\n",
        "#NewsURL = all_articles['articles'][1]['url']"
      ],
      "id": "0bp_v0u5VpLA",
      "execution_count": null,
      "outputs": []
    },
    {
      "cell_type": "code",
      "metadata": {
        "colab": {
          "base_uri": "https://localhost:8080/"
        },
        "id": "_SfRESDcizc6",
        "outputId": "ba10bf0a-8e54-4328-97ac-16d66f9f9491"
      },
      "source": [
        "import bs4 as bs\n",
        "import urllib.request\n",
        "import re\n",
        "article_text = \"\"\n",
        "for i in links[1:5]:\n",
        "  scraped_data = urllib.request.urlopen(i)\n",
        "  article = scraped_data.read()\n",
        "  parsed_article = bs.BeautifulSoup(article,'lxml')\n",
        "  paragraphs = parsed_article.find_all('p')\n",
        "  for p in paragraphs:\n",
        "    article_text += p.text\n",
        "\n",
        print(article_text)
      ],
      "id": "_SfRESDcizc6",
      "execution_count": null,
      "outputs": [
        {
          "output_type": "stream",
          "text": [
            "Authorities in Germany have cancelled the Oktoberfest beer festival in Munich over coronavirus concerns.This is the second year in a row that the event has been called off due to the pandemic.\"The situation is too uncertain,\" Bavaria's Premier Markus Söder said on Monday.Around six million people would normally attend the annual festival, which takes place in September and October.\"It wasn't an easy decision,\" Munich's Mayor Dieter Reiter told a joint news conference on Monday. Bavarian Premier Söder, meanwhile, said that measures such as face masks and social distancing \"would not be feasible\" in the festival's traditional beer tents.Mr Söder added that cancelling the event at a later date would have caused \"economic loss\".\"Imagine there was a new wave and it then became a super-spreader event. The brand would be damaged forever and we don't want that,\" he said.While Munich's official events were cancelled last year, many locals attended the city's breweries in traditional clothes.This year marks the 26th time the festival has been cancelled in more than 200 years.According to its official website, Oktoberfest was first called off in 1813 - just four years after it began - due to fighting with Napoleon. Since then, it has been halted by wars, inflation and cholera.Last month, Germany introduced a controversial new lockdown law in response to a third wave of infections. The rules, which allow the federal government to impose an overnight curfew and shut schools wherever infection rates rise too high, have already been put in place in a number of cities.Germany has reported around 3.4 million cases and more than 83,000 deaths since the pandemic began.German MPs back curfew law as protest is broken upOktoberfest: How do you honour it in a pandemic?Dozens hurt in Jerusalem mosque clashesAt least 163 Palestinians and six Israeli police are injured as rising tensions erupt into violence.Inside the Indian rural hospitals unable to cope. VideoInside the Indian rural hospitals unable to copeCalifornia sees population fall for the first timeThe Aboriginal boy teaching Australia a lesson'Our first day of freedom on American soil' Video'Our first day of freedom on American soil'#MeToo Serbia: 'I thought I was the only one' Video#MeToo Serbia: 'I thought I was the only one'Philippines Covid surge throws country into disarray. VideoPhilippines Covid surge throws country into disarrayBrazil's bubble of bad vaccine infoSpy row revs up Russia tensions in heart of EuropeIndia's Covid crisis delivers a blow to brand ModiThe sheikh, the ransom payments and the banditsThe deadly secret of the superfruit loved in the USFootball phrases15 sayings from around the worldCalifornia condors swoop on home and 'declare war'1Dozens hurt in Jerusalem mosque clashes2The Aboriginal boy teaching Australia a lesson3Train services cancelled after cracks found4Next Zulu king revealed amid succession feud5South Carolina to allow executions by firing squad6SNP hopes of majority remain on a knife edge7US election officials drop Trump hush money probe8Big Chinese rocket segment set to fall to Earth9California sees population fall for the first time10© 2021 BBC. The BBC is not responsible for the content of external sites. Read about our approach to external linking.By Georgina RannardBBC NewsAs a second wave of coronavirus devastates India, with more than 350,000 cases reported daily, the families of the sick are desperately hunting on social media for help. From morning to night, they scour Instagram accounts, drop messages on WhatsApp groups and work through their phone books. They're looking for hospital beds, oxygen, the Covid drug Remdesivir and plasma.It's chaotic and overwhelming. A WhatsApp message starts circulating: \"Two ICU beds free.\" Minutes later, they're gone, to be occupied by whoever got there first. Another message: \"Urgently needed oxygen concentrator. Please help.\"As the health system buckles, it is community, self-help and luck standing between life and death. But demand is outstripping supply and the sick don't have the luxury of time. When I started this piece on Friday, I spoke to one man looking for oxygen on WhatsApp for his 30-year-old cousin in Uttar Pradesh. By the time I finished it on Sunday, he had died.Others are exhausted and distressed after days of shouldering the weight of finding life-saving treatment for their loved ones.\"It's 6am in India and that's when we start the calls. We find out my grandpa's needs for the day - oxygen or injections - and we hit WhatsApp and we call everyone we know,\" Avani Singh explains.Her 94-year-old grandfather is extremely ill with Covid-19 in Delhi. From their home in the US, Avani and her mother, Amrita, describe a dizzying web of family, friends, relatives and professional contacts, sometimes many times removed, who helped when he fell ill and quickly deteriorated.\"We were working every contact we know. I was looking on social media - there are pages I follow that say 'so and so confirmed has ICU beds' or 'this place has oxygen' - between us we tried around 200 places,\" Avani explains.Eventually through a school friend they found a hospital with beds but discovered it had no oxygen. By now, Avani's grandfather was unconscious. \"Then I posted a plea on Facebook and a friend knew an emergency room with oxygen - because of that friend my dad survived the night,\" Amrita explains.When we speak on Saturday, his outlook has improved but the task ahead for Avani and Amrita is to get hold of Remdesivir injections. They make the calls and Amrita's brother in Delhi drives to the locations, clocking up to a 100 miles (160km) a day. \"My grandad is my best friend. I can't thank the people running the Instagram pages enough for everything they are doing,\" Avani says.But information quickly goes out-of-date and they're worried about fakes.\"We heard one pharmacy had them, but by the time my cousin got there, there was none left. It opened at 8.30am and people had been queuing from midnight - only the first 100 got the injections.\"Now they are selling medicine on the black market - it should be 1,200 rupees ($16) and they're selling for 100,000 ($1,334) - and you can't guarantee it's real,\" Amrita explains.And like in any system that relies on personal connections, not everyone has a fair shot. Money, family contacts and a higher social status all bring a greater chance of success, as does access to internet and mobile phones.Amid the chaos, individuals are pitching in to try to bring some order and centralise information, setting up community groups and using Instagram accounts to circulate contacts.Arpita Chowdhury, 20, and a group of students at her college in India's capital, Delhi, are running an online database of information they gather and verify themselves. \"It's changing every hour and minute. Five minutes ago, I was told that there is a hospital with 10 beds available, but when I call there are no beds available,\" she explains.With her colleagues, she calls contact numbers advertised on social media that offer oxygen, beds, plasma or medicine and publishes the verified information online. She then fields requests from relatives of Covid patients asking for help.\"At the most basic level, it's something we can do to help,\" she says.On Friday, Aditya Gupta told me he was searching for an oxygen concentrator for his dangerously-ill cousin Saurabh Gupta in Gorakhpur, a town in the northern state of Uttar Pradesh, which has been reeling from a rising cases and deaths. Saurabh, a 30-year-old engineer, was his family's pride and joy. His father ran a small shop and had saved up so he could get an education.\"We visited almost all hospitals in Gorakhpur. The large hospitals were full and the rest told us: 'If you can arrange oxygen on your own, than we can take the patient,\" Aditya explained.Through WhatsApp, the family got hold of one oxygen cylinder but needed a concentrator to make it work. It was out-of-stock on Friday but they received assurances from a supplier that they could get one.But the desperately needed device never arrived and Saurabh was never admitted to hospital.On Sunday Aditya explained: \"We lost him yesterday morning, he died in front of his parents.\"Dozens hurt in Jerusalem mosque clashesAt least 163 Palestinians and six Israeli police are injured as rising tensions erupt into violence.Inside the Indian rural hospitals unable to cope. VideoInside the Indian rural hospitals unable to copeCalifornia sees population fall for the first timeThe Aboriginal boy teaching Australia a lesson'Our first day of freedom on American soil' Video'Our first day of freedom on American soil'#MeToo Serbia: 'I thought I was the only one' Video#MeToo Serbia: 'I thought I was the only one'Philippines Covid surge throws country into disarray. VideoPhilippines Covid surge throws country into disarrayBrazil's bubble of bad vaccine infoSpy row revs up Russia tensions in heart of EuropeIndia's Covid crisis delivers a blow to brand ModiThe sheikh, the ransom payments and the banditsThe deadly secret of the superfruit loved in the USFootball phrases15 sayings from around the worldCalifornia condors swoop on home and 'declare war'1Dozens hurt in Jerusalem mosque clashes2The Aboriginal boy teaching Australia a lesson3Train services cancelled after cracks found4Next Zulu king revealed amid succession feud5South Carolina to allow executions by firing squad6SNP hopes of majority remain on a knife edge7US election officials drop Trump hush money probe8Big Chinese rocket segment set to fall to Earth9California sees population fall for the first time10© 2021 BBC. The BBC is not responsible for the content of external sites. Read about our approach to external linking.A man has been arrested in Spain on suspicion of assault after allegedly infecting 22 people with Covid.The 40-year-old is alleged to have continued to go to work and the gym despite having a cough and a temperature of more than 40C (104F).He is said to have walked around his place of work in Majorca, pulling his mask down, coughing and telling colleagues he was going to infect them.Five colleagues and three fellow gym goers later tested positive.Another 14 people - family members of the infected - also came down with Covid, including three one-year-olds.In a statement released on Saturday, Spanish police said the man had been exhibiting symptoms for a number of days, but refused to go home from work in the town of Manacor.He took a PCR test one evening, but then went to work and the gym the next day while awaiting the results.His colleagues told him to go home, but he refused, police said. He would then pull down his mask, cough and say: \"I'm going to infect you all with coronavirus.\"When his test came back positive, colleagues were \"alarmed\", according to police, who have been investigating the allegations since late January.None of the people became seriously ill, police said.Why holidays in Majorca could decide who runs GermanyBacklash in Spain over princesses getting vaccinesDozens hurt in Jerusalem mosque clashesAt least 163 Palestinians and six Israeli police are injured as rising tensions erupt into violence.Inside the Indian rural hospitals unable to cope. VideoInside the Indian rural hospitals unable to copeCalifornia sees population fall for the first timeThe Aboriginal boy teaching Australia a lesson'Our first day of freedom on American soil' Video'Our first day of freedom on American soil'#MeToo Serbia: 'I thought I was the only one' Video#MeToo Serbia: 'I thought I was the only one'Philippines Covid surge throws country into disarray. VideoPhilippines Covid surge throws country into disarrayBrazil's bubble of bad vaccine infoSpy row revs up Russia tensions in heart of EuropeIndia's Covid crisis delivers a blow to brand ModiThe sheikh, the ransom payments and the banditsThe deadly secret of the superfruit loved in the USFootball phrases15 sayings from around the worldCalifornia condors swoop on home and 'declare war'1Dozens hurt in Jerusalem mosque clashes2The Aboriginal boy teaching Australia a lesson3Train services cancelled after cracks found4Next Zulu king revealed amid succession feud5South Carolina to allow executions by firing squad6SNP hopes of majority remain on a knife edge7US election officials drop Trump hush money probe8Big Chinese rocket segment set to fall to Earth9California sees population fall for the first time10© 2021 BBC. The BBC is not responsible for the content of external sites. Read about our approach to external linking.Americans may be able to travel to the EU this summer - if they are fully vaccinated against Covid-19.European Commission President Ursula von der Leyen told the New York Times this should be possible as both sides have approved the same jabs.However, she gave no exact timetable and said it would depend on the \"epidemiological situation\".European nations have restricted non-essential travel from the US for more than a year.The EU toughened its recommendations on foreign visitors in January - but each member state must put the measures in place. Greece, for example, has already said Americans with proof of negative tests can enter.The UK, which is now outside of the EU, is introducing a traffic light system on 17 May that will set out its travel restrictions on countries around the world. Which countries get which traffic light is yet to be finalised.The US still bans leisure travel from the EU and UK. There have been some suggestions it could reciprocate in lifting restrictions, but nothing has been announced.Its current advice to Americans is to avoid 80% of countries worldwide because of the coronavirus pandemic.Vaccination programmes are proceeding swiftly in the US and UK, and the EU's target for the summer remains \"a minimum of 70% of the entire adult population\" receiving at least one dose.The US is on target for 70% of adults by the middle of June. The UK total is already at 65% for at least one dose.Ms von der Leyen told the New York Times: \"The Americans, as far as I can see, use European Medicines Agency-approved vaccines.\"This will enable free movement and the travel to the European Union.\"Moderna, Pfizer-BioNTech and Johnson & Johnson doses have all been approved in the US and EU.Ms von der Leyen said any easing of rules would depend \"on the epidemiological situation, but the situation is improving in the United States, as it is, hopefully, also improving in the European Union\".The EU is also devising a digital vaccine certificate, but there are questions about uniformity as some nations are planning their own versions.Some countries are heavily reliant on tourism and are desperate for a return of visitors.There has been some easing of restrictions this week. Italy is allowing restaurants and bars in much of the country to serve customers outside and some cinemas and concert halls are also reopening.In France, children are returning to nurseries and primary schools, while in Belgium hairdressers and some other shops are reopening.But Covid-19 concerns are still affecting travel plans. On Monday the mayor of the Spanish city of Pamplona announced the annual Sanfermín fiesta in July - with its famous running of the bulls - would be cancelled for a second straight year.Is Europe lifting lockdown restrictions?Has coronavirus brought borders back to Europe?Dozens hurt in Jerusalem mosque clashesAt least 163 Palestinians and six Israeli police are injured as rising tensions erupt into violence.Inside the Indian rural hospitals unable to cope. VideoInside the Indian rural hospitals unable to copeCalifornia sees population fall for the first timeThe Aboriginal boy teaching Australia a lesson'Our first day of freedom on American soil' Video'Our first day of freedom on American soil'#MeToo Serbia: 'I thought I was the only one' Video#MeToo Serbia: 'I thought I was the only one'Philippines Covid surge throws country into disarray. VideoPhilippines Covid surge throws country into disarrayBrazil's bubble of bad vaccine infoSpy row revs up Russia tensions in heart of EuropeIndia's Covid crisis delivers a blow to brand ModiThe sheikh, the ransom payments and the banditsThe deadly secret of the superfruit loved in the USFootball phrases15 sayings from around the worldCalifornia condors swoop on home and 'declare war'1Dozens hurt in Jerusalem mosque clashes2The Aboriginal boy teaching Australia a lesson3Train services cancelled after cracks found4Next Zulu king revealed amid succession feud5South Carolina to allow executions by firing squad6SNP hopes of majority remain on a knife edge7US election officials drop Trump hush money probe8Big Chinese rocket segment set to fall to Earth9California sees population fall for the first time10© 2021 BBC. The BBC is not responsible for the content of external sites. Read about our approach to external linking.\n"
          ],
          "name": "stdout"
        }
      ]
    },
    {
      "cell_type": "markdown",
      "metadata": {
        "id": "descending-spiritual"
      },
      "source": [
        "# **Fetching Articles from NewsAPI**\n",
        "\n",
        "---\n",
        "\n"
      ],
      "id": "descending-spiritual"
    },
    {
      "cell_type": "markdown",
      "metadata": {
        "id": "filled-layout"
      },
      "source": [
        "# **Preprocessing**"
      ],
      "id": "filled-layout"
    },
    {
      "cell_type": "code",
      "metadata": {
        "id": "featured-movie"
      },
      "source": [
        "# Removing Square Brackets and Extra Spaces\n",
        "article_text = re.sub(r'\\[[0-9]*\\]', ' ', article_text)\n",
        "article_text = re.sub(r'\\s+', ' ', article_text)"
      ],
      "id": "featured-movie",
      "execution_count": null,
      "outputs": []
    },
    {
      "cell_type": "code",
      "metadata": {
        "id": "completed-pollution"
      },
      "source": [
        "# Removing special characters and digits\n",
        "formatted_article_text = re.sub('[^a-zA-Z]', ' ', article_text )\n",
        "formatted_article_text = re.sub(r'\\s+', ' ', formatted_article_text)"
      ],
      "id": "completed-pollution",
      "execution_count": null,
      "outputs": []
    },
    {
      "cell_type": "markdown",
      "metadata": {
        "id": "urban-syracuse"
      },
      "source": [
        "# **Converting Text To Sentences**"
      ],
      "id": "urban-syracuse"
    },
    {
      "cell_type": "code",
      "metadata": {
        "colab": {
          "base_uri": "https://localhost:8080/"
        },
        "id": "angry-fields",
        "outputId": "27f8035d-0f98-43d8-9984-abd83f33b9b1"
      },
      "source": [
        "import nltk\n",
        "nltk.download('punkt')\n",
        "nltk.download('stopwords')\n",
        "sentence_list = nltk.sent_tokenize(article_text)"
      ],
      "id": "angry-fields",
      "execution_count": null,
      "outputs": [
        {
          "output_type": "stream",
          "text": [
            "[nltk_data] Downloading package punkt to /root/nltk_data...\n",
            "[nltk_data]   Package punkt is already up-to-date!\n",
            "[nltk_data] Downloading package stopwords to /root/nltk_data...\n",
            "[nltk_data]   Package stopwords is already up-to-date!\n"
          ],
          "name": "stdout"
        }
      ]
    },
    {
      "cell_type": "markdown",
      "metadata": {
        "id": "particular-sperm"
      },
      "source": [
        "# **Find Weighted Frequency of Occurrence**"
      ],
      "id": "particular-sperm"
    },
    {
      "cell_type": "code",
      "metadata": {
        "id": "acoustic-occasions"
      },
      "source": [
        "stopwords = nltk.corpus.stopwords.words('english')\n",
        "\n",
        "word_frequencies = {}\n",
        "for word in nltk.word_tokenize(formatted_article_text):\n",
        "    if word not in stopwords:\n",
        "        if word not in word_frequencies.keys():\n",
        "            word_frequencies[word] = 1\n",
        "        else:\n",
        "            word_frequencies[word] += 1"
      ],
      "id": "acoustic-occasions",
      "execution_count": null,
      "outputs": []
    },
    {
      "cell_type": "code",
      "metadata": {
        "id": "composed-fault"
      },
      "source": [
        "maximum_frequncy = max(word_frequencies.values())\n",
        "\n",
        "for word in word_frequencies.keys():\n",
        "    word_frequencies[word] = (word_frequencies[word]/maximum_frequncy)"
      ],
      "id": "composed-fault",
      "execution_count": null,
      "outputs": []
    },
    {
      "cell_type": "markdown",
      "metadata": {
        "id": "western-young"
      },
      "source": [
        "# **Calculating Sentence Scores**"
      ],
      "id": "western-young"
    },
    {
      "cell_type": "code",
      "metadata": {
        "id": "continued-competition"
      },
      "source": [
        "sentence_scores = {}\n",
        "for sent in sentence_list:\n",
        "    for word in nltk.word_tokenize(sent.lower()):\n",
        "        if word in word_frequencies.keys():\n",
        "            if len(sent.split(' ')) < 30:\n",
        "                if sent not in sentence_scores.keys():\n",
        "                    sentence_scores[sent] = word_frequencies[word]\n",
        "                else:\n",
        "                    sentence_scores[sent] += word_frequencies[word]"
      ],
      "id": "continued-competition",
      "execution_count": null,
      "outputs": []
    },
    {
      "cell_type": "markdown",
      "metadata": {
        "id": "developed-choir"
      },
      "source": [
        "# **Getting the Summary**"
      ],
      "id": "developed-choir"
    },
    {
      "cell_type": "code",
      "metadata": {
        "id": "differential-breach"
      },
      "source": [
        "import heapq\n",
        "summary_sentences = heapq.nlargest(10, sentence_scores, key=sentence_scores.get)\n",
        "\n",
        "summary = ' '.join(summary_sentences)\n",
        "print(summary)"
      ],
      "id": "differential-breach",
      "execution_count": null,
      "outputs": []
    }
  ]
}
