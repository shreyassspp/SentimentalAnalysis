{
  "nbformat": 4,
  "nbformat_minor": 0,
  "metadata": {
    "colab": {
      "name": "SentimentAnalysisTwitter.ipynb",
      "provenance": [],
      "collapsed_sections": []
    },
    "kernelspec": {
      "name": "python385jvsc74a57bd01baa965d5efe3ac65b79dfc60c0d706280b1da80fedb7760faf2759126c4f253",
      "display_name": "Python 3.8.5 64-bit"
    },
    "language_info": {
      "codemirror_mode": {
        "name": "ipython",
        "version": 3
      },
      "file_extension": ".py",
      "mimetype": "text/x-python",
      "name": "python",
      "nbconvert_exporter": "python",
      "pygments_lexer": "ipython3",
      "version": "3.8.5"
    },
    "metadata": {
      "interpreter": {
        "hash": "1baa965d5efe3ac65b79dfc60c0d706280b1da80fedb7760faf2759126c4f253"
      }
    }
  },
  "cells": [
    {
      "cell_type": "markdown",
      "metadata": {
        "id": "lE4AuGbRjce5"
      },
      "source": [
        "# **Import The Libraries and Packages**"
      ]
    },
    {
      "cell_type": "code",
      "metadata": {
        "id": "8OEQTX75jjyO",
        "scrolled": true
      },
      "source": [
        "import tweepy\n",
        "from textblob import TextBlob\n",
        "from wordcloud import WordCloud\n",
        "import pandas as pd\n",
        "import numpy as np\n",
        "import re\n",
        "import matplotlib.pyplot as plt\n",
        "plt.style.use('fivethirtyeight')"
      ],
      "execution_count": 1,
      "outputs": []
    },
    {
      "cell_type": "markdown",
      "metadata": {
        "id": "SJHqeoRKjvoR"
      },
      "source": [
        "# **Load the Data and Authenticate to Twitter**"
      ]
    },
    {
      "cell_type": "code",
      "metadata": {
        "id": "tG78yLZzfNeq"
      },
      "source": [
        "#TWITTER CRITERIA CLASS\n",
        "class TweetCriteria:\n",
        "\n",
        "\tdef __init__(self):\n",
        "\t\tself.maxTweets = 0\n",
        "\n",
        "\t#def setUsername(self, username):\n",
        "\t\t#self.username = username\n",
        "\t#\treturn self\n",
        "\n",
        "\tdef setSince(self, since):\n",
        "\t\tself.since = since\n",
        "\t\treturn self\n",
        "\n",
        "\tdef setUntil(self, until):\n",
        "\t\tself.until = until\n",
        "\t\treturn self\n",
        "\n",
        "\tdef setQuerySearch(self, querySearch):\n",
        "\t\tself.querySearch = querySearch\n",
        "\t\treturn self\n",
        "\n",
        "\tdef setMaxTweets(self, maxTweets):\n",
        "\t\tself.maxTweets = maxTweets\n",
        "\t\treturn self\n",
        "\n",
        "\t#def setLang(self, Lang):\n",
        "\t\t#self.lang = Lang\n",
        "\t\t#return self\n",
        "\n",
        "\t#def setTopTweets(self, topTweets):\n",
        " \t\t#self.topTweets = topTweets\n",
        " \t\t#return self\n",
        "\n",
        "#print(\"Hi\")"
      ],
      "execution_count": 4,
      "outputs": []
    },
    {
      "cell_type": "code",
      "metadata": {
        "id": "tq7suD56jvCN"
      },
      "source": [
        "  \n",
        "class Tweet:\n",
        "\t\n",
        "\tdef __init__(self):\n",
        "\t\tpass"
      ],
      "execution_count": 5,
      "outputs": []
    },
    {
      "cell_type": "code",
      "metadata": {
        "colab": {
          "base_uri": "https://localhost:8080/"
        },
        "id": "BXyRyZ5wgCPL",
        "outputId": "eb9b6714-eede-40b3-da42-22f13d3961f9"
      },
      "source": [
        "#TWIITERMANAGER\n",
        "!pip install PyQuery\n",
        "import urllib.request, urllib.parse, urllib.error,urllib.request,urllib.error,urllib.parse,json,re,datetime,sys,http.cookiejar\n",
        "#from .. import models\n",
        "from pyquery import PyQuery\n",
        "\n",
        "class TweetManager:\n",
        "\t\n",
        "\tdef __init__(self):\n",
        "\t\tpass\n",
        "\t\t\n",
        "\t@staticmethod\n",
        "\tdef getTweets(tweetCriteria, receiveBuffer=None, bufferLength=100, proxy=None):\n",
        "\t\trefreshCursor = ''\n",
        "\t\n",
        "\t\tresults = []\n",
        "\t\tresultsAux = []\n",
        "\t\tcookieJar = http.cookiejar.CookieJar()\n",
        "\n",
        "\t\tactive = True\n",
        "\n",
        "\t\twhile active:\n",
        "\t\t\tjson = TweetManager.getJsonReponse(tweetCriteria, refreshCursor, cookieJar, proxy)\n",
        "\t\t\tif len(json['items_html'].strip()) == 0:\n",
        "\t\t\t\tbreak\n",
        "\n",
        "\t\t\trefreshCursor = json['min_position']\n",
        "\t\t\tscrapedTweets = PyQuery(json['items_html'])\n",
        "\t\t\t#Remove incomplete tweets withheld by Twitter Guidelines\n",
        "\t\t\tscrapedTweets.remove('div.withheld-tweet')\n",
        "\t\t\ttweets = scrapedTweets('div.js-stream-tweet')\n",
        "\t\t\t\n",
        "\t\t\tif len(tweets) == 0:\n",
        "\t\t\t\tbreak\n",
        "\t\t\t\n",
        "\t\t\tfor tweetHTML in tweets:\n",
        "\t\t\t\ttweetPQ = PyQuery(tweetHTML)\n",
        "\t\t\t\ttweet =Tweet()\n",
        "\t\t\t\t\n",
        "\t\t\t\tusernameTweet = tweetPQ(\"span.username.js-action-profile-name b\").text()\n",
        "\t\t\t\ttxt = re.sub(r\"\\s+\", \" \", tweetPQ(\"p.js-tweet-text\").text().replace('# ', '#').replace('@ ', '@'))\n",
        "\t\t\t\tretweets = int(tweetPQ(\"span.ProfileTweet-action--retweet span.ProfileTweet-actionCount\").attr(\"data-tweet-stat-count\").replace(\",\", \"\"))\n",
        "\t\t\t\tfavorites = int(tweetPQ(\"span.ProfileTweet-action--favorite span.ProfileTweet-actionCount\").attr(\"data-tweet-stat-count\").replace(\",\", \"\"))\n",
        "\t\t\t\tdateSec = int(tweetPQ(\"small.time span.js-short-timestamp\").attr(\"data-time\"))\n",
        "\t\t\t\tid = tweetPQ.attr(\"data-tweet-id\")\n",
        "\t\t\t\tpermalink = tweetPQ.attr(\"data-permalink-path\")\n",
        "\t\t\t\tuser_id = int(tweetPQ(\"a.js-user-profile-link\").attr(\"data-user-id\"))\n",
        "\t\t\t\t\n",
        "\t\t\t\tgeo = ''\n",
        "\t\t\t\tgeoSpan = tweetPQ('span.Tweet-geo')\n",
        "\t\t\t\tif len(geoSpan) > 0:\n",
        "\t\t\t\t\tgeo = geoSpan.attr('title')\n",
        "\t\t\t\turls = []\n",
        "\t\t\t\tfor link in tweetPQ(\"a\"):\n",
        "\t\t\t\t\ttry:\n",
        "\t\t\t\t\t\turls.append((link.attrib[\"data-expanded-url\"]))\n",
        "\t\t\t\t\texcept KeyError:\n",
        "\t\t\t\t\t\tpass\n",
        "\t\t\t\ttweet.id = id\n",
        "\t\t\t\ttweet.permalink = 'https://twitter.com' + permalink\n",
        "\t\t\t\ttweet.username = usernameTweet\n",
        "\t\t\t\t\n",
        "\t\t\t\ttweet.text = txt\n",
        "\t\t\t\ttweet.date = datetime.datetime.fromtimestamp(dateSec)\n",
        "\t\t\t\ttweet.formatted_date = datetime.datetime.fromtimestamp(dateSec).strftime(\"%a %b %d %X +0000 %Y\")\n",
        "\t\t\t\ttweet.retweets = retweets\n",
        "\t\t\t\ttweet.favorites = favorites\n",
        "\t\t\t\ttweet.mentions = \" \".join(re.compile('(@\\\\w*)').findall(tweet.text))\n",
        "\t\t\t\ttweet.hashtags = \" \".join(re.compile('(#\\\\w*)').findall(tweet.text))\n",
        "\t\t\t\ttweet.geo = geo\n",
        "\t\t\t\ttweet.urls = \",\".join(urls)\n",
        "\t\t\t\ttweet.author_id = user_id\n",
        "\t\t\t\t\n",
        "\t\t\t\tresults.append(tweet)\n",
        "\t\t\t\tresultsAux.append(tweet)\n",
        "\t\t\t\t\n",
        "\t\t\t\tif receiveBuffer and len(resultsAux) >= bufferLength:\n",
        "\t\t\t\t\treceiveBuffer(resultsAux)\n",
        "\t\t\t\t\tresultsAux = []\n",
        "\t\t\t\t\n",
        "\t\t\t\tif tweetCriteria.maxTweets > 0 and len(results) >= tweetCriteria.maxTweets:\n",
        "\t\t\t\t\tactive = False\n",
        "\t\t\t\t\tbreak\n",
        "\t\t\t\t\t\n",
        "\t\t\n",
        "\t\tif receiveBuffer and len(resultsAux) > 0:\n",
        "\t\t\treceiveBuffer(resultsAux)\n",
        "\t\t\n",
        "\t\treturn results\n",
        "\t\n",
        "\t@staticmethod\n",
        "\tdef getJsonReponse(tweetCriteria, refreshCursor, cookieJar, proxy):\n",
        "\t\turl = \"https://twitter.com/i/search/timeline?f=tweets&q=%s&src=typd&%smax_position=%s\"\n",
        "\t\t\n",
        "\t\turlGetData = ''\n",
        "\t\tif hasattr(tweetCriteria, 'username'):\n",
        "\t\t\turlGetData += ' from:' + tweetCriteria.username\n",
        "\t\t\t\n",
        "\t\tif hasattr(tweetCriteria, 'since'):\n",
        "\t\t\turlGetData += ' since:' + tweetCriteria.since\n",
        "\t\t\t\n",
        "\t\tif hasattr(tweetCriteria, 'until'):\n",
        "\t\t\turlGetData += ' until:' + tweetCriteria.until\n",
        "\t\t\t\n",
        "\t\tif hasattr(tweetCriteria, 'querySearch'):\n",
        "\t\t\turlGetData += ' ' + tweetCriteria.querySearch\n",
        "\t\t\t\n",
        "\t\tif hasattr(tweetCriteria, 'lang'):\n",
        "\t\t\turlLang = 'lang=' + tweetCriteria.lang + '&'\n",
        "\t\telse:\n",
        "\t\t\turlLang = ''\n",
        "\t\turl = url % (urllib.parse.quote(urlGetData), urlLang, refreshCursor)\n",
        "\t\t#print(url)\n",
        "\n",
        "\t\theaders = [\n",
        "\t\t\t('Host', \"twitter.com\"),\n",
        "\t\t\t('User-Agent', \"Mozilla/5.0 (Windows NT 6.1; Win64; x64)\"),\n",
        "\t\t\t('Accept', \"application/json, text/javascript, */*; q=0.01\"),\n",
        "\t\t\t('Accept-Language', \"de,en-US;q=0.7,en;q=0.3\"),\n",
        "\t\t\t('X-Requested-With', \"XMLHttpRequest\"),\n",
        "\t\t\t('Referer', url),\n",
        "\t\t\t('Connection', \"keep-alive\")\n",
        "\t\t]\n",
        "\n",
        "\t\tif proxy:\n",
        "\t\t\topener = urllib.request.build_opener(urllib.request.ProxyHandler({'http': proxy, 'https': proxy}), urllib.request.HTTPCookieProcessor(cookieJar))\n",
        "\t\telse:\n",
        "\t\t\topener = urllib.request.build_opener(urllib.request.HTTPCookieProcessor(cookieJar))\n",
        "\t\topener.addheaders = headers\n",
        "\n",
        "\t\ttry:\n",
        "\t\t\tresponse = opener.open(url)\n",
        "\t\t\tjsonResponse = response.read()\n",
        "\t\texcept:\n",
        "\t\t\t#print(\"Twitter weird response. Try to see on browser: \", url)\n",
        "\t\t\tprint(\"Twitter weird response. Try to see on browser: https://twitter.com/search?q=%s&src=typd\" % urllib.parse.quote(urlGetData))\n",
        "\t\t\tprint(\"Unexpected error:\", sys.exc_info()[0])\n",
        "\t\t\tsys.exit()\n",
        "\t\t\treturn\n",
        "\t\t\n",
        "\t\tdataJson = json.loads(jsonResponse.decode())\n",
        "\t\t\n",
        "\t\treturn dataJson\t\t"
      ],
      "execution_count": 8,
      "outputs": [
        {
          "output_type": "stream",
          "text": [
            "Requirement already satisfied: PyQuery in /usr/local/lib/python3.7/dist-packages (1.4.3)\n",
            "Requirement already satisfied: cssselect>0.7.9 in /usr/local/lib/python3.7/dist-packages (from PyQuery) (1.1.0)\n",
            "Requirement already satisfied: lxml>=2.1 in /usr/local/lib/python3.7/dist-packages (from PyQuery) (4.2.6)\n"
          ],
          "name": "stdout"
        }
      ]
    },
    {
      "cell_type": "code",
      "metadata": {
        "colab": {
          "base_uri": "https://localhost:8080/",
          "height": 239
        },
        "id": "vkGMgXsbiCoa",
        "outputId": "f0b4fbae-37b1-457f-bf55-3cb64403363f"
      },
      "source": [
        "querySearch=input(\"Enter the query: \")\n",
        "since=input(\"Enter the start date: \")\n",
        "until=input(\"Enter the end date: \")\n",
        "tweetCriteria =TweetCriteria().setQuerySearch(querySearch).setSince(since).setUntil(until).setMaxTweets(1000)\n",
        "tweet =TweetManager.getTweets(tweetCriteria)\n",
        "\t  \n",
        "print(tweet.text)\n",
        "text=tweet.text"
      ],
      "execution_count": 12,
      "outputs": [
        {
          "output_type": "stream",
          "text": [
            "Enter the query: COVID\n",
            "Enter the start date: 2021-05-06\n",
            "Enter the end date: 2021-05-08\n",
            "Twitter weird response. Try to see on browser: https://twitter.com/search?q=%20since%3A2021-05-06%20until%3A2021-05-08%20COVID&src=typd\n",
            "Unexpected error: <class 'urllib.error.HTTPError'>\n"
          ],
          "name": "stdout"
        },
        {
          "output_type": "error",
          "ename": "SystemExit",
          "evalue": "ignored",
          "traceback": [
            "An exception has occurred, use %tb to see the full traceback.\n",
            "\u001b[0;31mSystemExit\u001b[0m\n"
          ]
        },
        {
          "output_type": "stream",
          "text": [
            "/usr/local/lib/python3.7/dist-packages/IPython/core/interactiveshell.py:2890: UserWarning: To exit: use 'exit', 'quit', or Ctrl-D.\n",
            "  warn(\"To exit: use 'exit', 'quit', or Ctrl-D.\", stacklevel=1)\n"
          ],
          "name": "stderr"
        }
      ]
    },
    {
      "cell_type": "markdown",
      "metadata": {
        "id": "bvRrwlMzlqjq"
      },
      "source": [
        "**Uploading the CSV file that contains Twitter app keys**"
      ]
    },
    {
      "cell_type": "markdown",
      "metadata": {
        "id": "gUNv2YGaj6LB"
      },
      "source": [
        "**Creating the authentication object and setting the accessing token and access token secret, and authenticating to Twitter**"
      ]
    },
    {
      "cell_type": "code",
      "metadata": {
        "id": "XsT1K4t4mR3w",
        "colab": {
          "base_uri": "https://localhost:8080/"
        },
        "outputId": "19479d59-3c4c-4fd1-964e-15ad85d98740"
      },
      "source": [
        "# Authenticate to Twitter\n",
        "auth = tweepy.OAuthHandler(\"\", \n",
        "    \"\")\n",
        "auth.set_access_token(\"\", \n",
        "    \"\")\n",
        "\n",
        "api = tweepy.API(auth)\n",
        "\n",
        "try:\n",
        "    api.verify_credentials()\n",
        "    print(\"Authentication OK\")\n",
        "except:\n",
        "    print(\"Error during authentication\")"
      ],
      "execution_count": 11,
      "outputs": [
        {
          "output_type": "stream",
          "text": [
            "Error during authentication\n"
          ],
          "name": "stdout"
        }
      ]
    },
    {
      "cell_type": "markdown",
      "metadata": {
        "id": "a7kW27tgm1Sp"
      },
      "source": [
        "# **Extract and Analyze the Data**"
      ]
    },
    {
      "cell_type": "markdown",
      "metadata": {
        "id": "ub_L_tPFX5Ac"
      },
      "source": [
        "**Create a DataFrame with a column called Tweets that’ll contain the posts from the Twitter user, and then show the first five rows**"
      ]
    },
    {
      "cell_type": "code",
      "metadata": {
        "id": "L8py2gjzYA4v"
      },
      "source": [
        "# Create a dataframe with a column called Tweets\n",
        "df = pd.DataFrame([tweet.text for tweet in tweet], columns=['Tweets'])\n",
        "# Show the first 5 rows of data\n",
        "df.head()"
      ],
      "execution_count": null,
      "outputs": []
    },
    {
      "cell_type": "markdown",
      "metadata": {
        "id": "9r2nl2SKYppK"
      },
      "source": [
        "**We need to add the tweets’ subjectivity and polarity to the DataFrame. In order to do this, We have to create two functions: one to get the tweets called Subjectivity (how subjective or opinionated the text is — a score of 0 is fact, and a score of +1 is very much an opinion) and the other to get the tweets called Polarity (how positive or negative the text is, — score of -1 is the highest negative score, and a score of +1 is the highest positive score).\n",
        "Next, store the results into two columns — one called Subjectivity and the other called Polarity — and show the results.**"
      ]
    },
    {
      "cell_type": "code",
      "metadata": {
        "id": "YqVw3RV1ZMB0"
      },
      "source": [
        "# Create a function to get the subjectivity\n",
        "def getSubjectivity(text):\n",
        "   return TextBlob(text).sentiment.subjectivity\n",
        "\n",
        "# Create a function to get the polarity\n",
        "def getPolarity(text):\n",
        "   return  TextBlob(text).sentiment.polarity\n",
        "\n",
        "\n",
        "# Create two new columns 'Subjectivity' & 'Polarity'\n",
        "df['Subjectivity'] = df['Tweets'].apply(getSubjectivity)\n",
        "df['Polarity'] = df['Tweets'].apply(getPolarity)\n",
        "\n",
        "# Show the new dataframe with columns 'Subjectivity' & 'Polarity'\n",
        "df"
      ],
      "execution_count": null,
      "outputs": []
    },
    {
      "cell_type": "markdown",
      "metadata": {
        "id": "VkjtmpFMZRLC"
      },
      "source": [
        "**Visualizing all the words in the data using the word-cloud plot to see how well the sentiments are distributed. It looks like the word “health” appears a lot in Bill Gates past 100 tweets**"
      ]
    },
    {
      "cell_type": "code",
      "metadata": {
        "id": "7B-QRRoEZx7x"
      },
      "source": [
        "# word cloud visualization\n",
        "allWords = ' '.join([twts for twts in df['Tweets']])\n",
        "wordCloud = WordCloud(width=500, height=300, random_state=21, max_font_size=110).generate(allWords)\n",
        " \n",
        " \n",
        "plt.imshow(wordCloud, interpolation=\"bilinear\")\n",
        "plt.axis('off')\n",
        "plt.show()"
      ],
      "execution_count": null,
      "outputs": []
    },
    {
      "cell_type": "markdown",
      "metadata": {
        "id": "yAv9LtXCZ1A5"
      },
      "source": [
        "**Create a function to compute the negative (-1), neutral (0), and positive (+1) analysis, and add the information to a new column called Analysis. Then, show the results.**"
      ]
    },
    {
      "cell_type": "code",
      "metadata": {
        "id": "Fjhe6EKnZ9fQ"
      },
      "source": [
        "# Create a function to compute negative (-1), neutral (0) and positive (+1) analysis\n",
        "def getAnalysis(score):\n",
        "    if score < 0:\n",
        "      return 'Negative'\n",
        "    elif score == 0:\n",
        "      return 'Neutral'\n",
        "    else:\n",
        "      return 'Positive'\n",
        "df['Analysis'] = df['Polarity'].apply(getAnalysis)\n",
        "# Show the dataframe\n",
        "df"
      ],
      "execution_count": null,
      "outputs": []
    },
    {
      "cell_type": "markdown",
      "metadata": {
        "id": "pqE_THWIaCbR"
      },
      "source": [
        "**Print the positive tweets in ascending order. The most positive tweet is the #1 tweet**"
      ]
    },
    {
      "cell_type": "code",
      "metadata": {
        "id": "uwQ9R8yOaORx"
      },
      "source": [
        "# Printing positive tweets \n",
        "print('Printing positive tweets:\\n')\n",
        "j=1\n",
        "sortedDF = df.sort_values(by=['Polarity']) #Sort the tweets\n",
        "for i in range(0, sortedDF.shape[0] ):\n",
        "  if( sortedDF['Analysis'][i] == 'Positive'):\n",
        "    print(str(j) + ') '+ sortedDF['Tweets'][i])\n",
        "    print()\n",
        "    j= j+1"
      ],
      "execution_count": null,
      "outputs": []
    },
    {
      "cell_type": "markdown",
      "metadata": {
        "id": "vpWpg4XeaUQB"
      },
      "source": [
        "**Print the negative tweets in descending order. The most negative tweet is the #1 tweet.**"
      ]
    },
    {
      "cell_type": "code",
      "metadata": {
        "id": "RhniOlbnaZm5"
      },
      "source": [
        "# Printing negative tweets  \n",
        "print('Printing negative tweets:\\n')\n",
        "j=1\n",
        "sortedDF = df.sort_values(by=['Polarity'],ascending=False) #Sort the tweets\n",
        "for i in range(0, sortedDF.shape[0] ):\n",
        "  if( sortedDF['Analysis'][i] == 'Negative'):\n",
        "    print(str(j) + ') '+sortedDF['Tweets'][i])\n",
        "    print()\n",
        "    j=j+1"
      ],
      "execution_count": null,
      "outputs": []
    },
    {
      "cell_type": "markdown",
      "metadata": {
        "id": "5T9fRDeMacjJ"
      },
      "source": [
        "**Plot the polarity and subjectivity as a scatter plot. It looks like the majority of the tweets are positive, as many of the points are on the right side of the polarity at value 0.00.**"
      ]
    },
    {
      "cell_type": "code",
      "metadata": {
        "id": "k4Vveryqan_D"
      },
      "source": [
        "# Plotting \n",
        "plt.figure(figsize=(8,6)) \n",
        "for i in range(0, df.shape[0]):\n",
        "  plt.scatter(df[\"Polarity\"][i], df[\"Subjectivity\"][i], color='Blue') \n",
        "# plt.scatter(x,y,color)   \n",
        "plt.title('Sentiment Analysis') \n",
        "plt.xlabel('Polarity') \n",
        "plt.ylabel('Subjectivity') \n",
        "plt.show()"
      ],
      "execution_count": null,
      "outputs": []
    },
    {
      "cell_type": "markdown",
      "metadata": {
        "id": "FsYKfdp5atts"
      },
      "source": [
        "**Print the percentage of positive tweets. About 81/100 of the tweets are considered positive tweets**"
      ]
    },
    {
      "cell_type": "code",
      "metadata": {
        "id": "BtnJF8OZazzp"
      },
      "source": [
        "# Print the percentage of positive tweets\n",
        "ptweets = df[df.Analysis == 'Positive']\n",
        "ptweets = ptweets['Tweets']\n",
        "ptweets\n",
        "\n",
        "round( (ptweets.shape[0] / df.shape[0]) * 100 , 1)"
      ],
      "execution_count": null,
      "outputs": []
    },
    {
      "cell_type": "markdown",
      "metadata": {
        "id": "TYVJBW23a4wx"
      },
      "source": [
        "**Print the percentage of negative tweets. About 9/100 tweets are considered negative tweets**"
      ]
    },
    {
      "cell_type": "code",
      "metadata": {
        "id": "C-WzoS0pa6XB"
      },
      "source": [
        "# Print the percentage of negative tweets\n",
        "ntweets = df[df.Analysis == 'Negative']\n",
        "ntweets = ntweets['Tweets']\n",
        "ntweets\n",
        "\n",
        "round( (ntweets.shape[0] / df.shape[0]) * 100, 1)"
      ],
      "execution_count": null,
      "outputs": []
    },
    {
      "cell_type": "markdown",
      "metadata": {
        "id": "uOJBBo-va9P4"
      },
      "source": [
        "**Show the value counts. Now we can see 81 tweets are positive, 10 are neutral, and 9 are negative**"
      ]
    },
    {
      "cell_type": "code",
      "metadata": {
        "id": "AVacNceZbGyg"
      },
      "source": [
        "# Show the value counts\n",
        "df['Analysis'].value_counts()"
      ],
      "execution_count": null,
      "outputs": []
    },
    {
      "cell_type": "markdown",
      "metadata": {
        "id": "QNbhVQNZbIyI"
      },
      "source": [
        "**Visually show the value counts**"
      ]
    },
    {
      "cell_type": "code",
      "metadata": {
        "id": "VerNBS_5bMD5"
      },
      "source": [
        "# Plotting and visualizing the counts\n",
        "plt.title('Sentiment Analysis')\n",
        "plt.xlabel('Sentiment')\n",
        "plt.ylabel('Counts')\n",
        "df['Analysis'].value_counts().plot(kind = 'bar')\n",
        "plt.show()"
      ],
      "execution_count": null,
      "outputs": []
    }
  ]
}